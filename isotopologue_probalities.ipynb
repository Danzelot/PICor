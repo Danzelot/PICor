{
 "cells": [
  {
   "cell_type": "code",
   "execution_count": 1,
   "metadata": {
    "hide_input": false,
    "scrolled": true
   },
   "outputs": [],
   "source": [
    "import pandas as pd\n",
    "from isotope_correction import calc_isotopologue_prob, calc_isotopologue_correction"
   ]
  },
  {
   "cell_type": "markdown",
   "metadata": {},
   "source": [
    "# Calculation of Isotopologue Correction Factors\n",
    "## Background\n",
    "Most elements occur naturally in different isotopes which almost excactly the same chemical properties.\n",
    "\n",
    "The most important element with  for biological compounds are:\n",
    "\n",
    "|Isotope | % nat. abundance | atomic mass\n",
    "| --- | --- | --- \n",
    "| <sup>1</sup>H | 99.985 | 1.007825\n",
    "| <sup>2</sup>H | 0.015 | 2.0140\n",
    "| <sup>12</sup>C | 98.89 | 12\n",
    "| <sup>13</sup>C | 1.11 | 13.00335\n",
    "| <sup>14</sup>N | 99.64 | 14.00307\n",
    "| <sup>15</sup>N | 0.36 | 15.00011\n",
    "| <sup>16</sup>O | 99.76 | 15.99491\n",
    "| <sup>17</sup>O | 0.04| 16.99913\n",
    "| <sup>18</sup>O | 0.2| 17.99916\n",
    "| <sup>28</sup>Si | 92.23 | 27.97693\n",
    "| <sup>29</sup>Si | 4.67 | 28.97649\n",
    "| <sup>30</sup>Si | 3.10 | 29.97376\n",
    "| <sup>32</sup>S  | 95.0 | 31.97207\n",
    "| <sup>33</sup>S  | 0.76 | 32.97146\n",
    "| <sup>34</sup>S  | 4.22 | 33.96786\n",
    "| <sup>35</sup>Cl | 75.77 | 34.96885\n",
    "| <sup>37</sup>Cl | 24.23 | 36.96590\n",
    "| <sup>79</sup>Br  | 50.69 | 78.9183\n",
    "| <sup>81</sup>Br  | 49.31 | 80.9163\n",
    "\n",
    "Every naturally occuring chemical compound have an isotope composition reflecting the natural isotope distribution as shown above.\n"
   ]
  },
  {
   "cell_type": "markdown",
   "metadata": {},
   "source": [
    "## Probabilities for unlabelled NAD isotopologues"
   ]
  },
  {
   "cell_type": "code",
   "execution_count": 3,
   "metadata": {
    "scrolled": true
   },
   "outputs": [
    {
     "name": "stdout",
     "output_type": "stream",
     "text": [
      "1.3347164372034768\n"
     ]
    },
    {
     "data": {
      "text/html": [
       "<style  type=\"text/css\" >\n",
       "</style>  \n",
       "<table id=\"T_d3f872c4_c8ac_11e9_ad25_c85b76c62436\" > \n",
       "<thead>    <tr> \n",
       "        <th class=\"blank level0\" ></th> \n",
       "        <th class=\"col_heading level0 col0\" >C</th> \n",
       "        <th class=\"col_heading level0 col1\" >N</th> \n",
       "        <th class=\"col_heading level0 col2\" >O</th> \n",
       "        <th class=\"col_heading level0 col3\" >H</th> \n",
       "        <th class=\"col_heading level0 col4\" >total</th> \n",
       "    </tr></thead> \n",
       "<tbody>    <tr> \n",
       "        <th id=\"T_d3f872c4_c8ac_11e9_ad25_c85b76c62436level0_row0\" class=\"row_heading level0 row0\" >0</th> \n",
       "        <td id=\"T_d3f872c4_c8ac_11e9_ad25_c85b76c62436row0_col0\" class=\"data row0 col0\" >79.78%</td> \n",
       "        <td id=\"T_d3f872c4_c8ac_11e9_ad25_c85b76c62436row0_col1\" class=\"data row0 col1\" >97.48%</td> \n",
       "        <td id=\"T_d3f872c4_c8ac_11e9_ad25_c85b76c62436row0_col2\" class=\"data row0 col2\" >96.65%</td> \n",
       "        <td id=\"T_d3f872c4_c8ac_11e9_ad25_c85b76c62436row0_col3\" class=\"data row0 col3\" >99.68%</td> \n",
       "        <td id=\"T_d3f872c4_c8ac_11e9_ad25_c85b76c62436row0_col4\" class=\"data row0 col4\" >74.92%</td> \n",
       "    </tr>    <tr> \n",
       "        <th id=\"T_d3f872c4_c8ac_11e9_ad25_c85b76c62436level0_row1\" class=\"row_heading level0 row1\" >1</th> \n",
       "        <td id=\"T_d3f872c4_c8ac_11e9_ad25_c85b76c62436row1_col0\" class=\"data row1 col0\" >18.12%</td> \n",
       "        <td id=\"T_d3f872c4_c8ac_11e9_ad25_c85b76c62436row1_col1\" class=\"data row1 col1\" >2.49%</td> \n",
       "        <td id=\"T_d3f872c4_c8ac_11e9_ad25_c85b76c62436row1_col2\" class=\"data row1 col2\" >0.52%</td> \n",
       "        <td id=\"T_d3f872c4_c8ac_11e9_ad25_c85b76c62436row1_col3\" class=\"data row1 col3\" >0.32%</td> \n",
       "        <td id=\"T_d3f872c4_c8ac_11e9_ad25_c85b76c62436row1_col4\" class=\"data row1 col4\" >19.57%</td> \n",
       "    </tr>    <tr> \n",
       "        <th id=\"T_d3f872c4_c8ac_11e9_ad25_c85b76c62436level0_row2\" class=\"row_heading level0 row2\" >2</th> \n",
       "        <td id=\"T_d3f872c4_c8ac_11e9_ad25_c85b76c62436row2_col0\" class=\"data row2 col0\" >1.96%</td> \n",
       "        <td id=\"T_d3f872c4_c8ac_11e9_ad25_c85b76c62436row2_col1\" class=\"data row2 col1\" >0.03%</td> \n",
       "        <td id=\"T_d3f872c4_c8ac_11e9_ad25_c85b76c62436row2_col2\" class=\"data row2 col2\" >2.78%</td> \n",
       "        <td id=\"T_d3f872c4_c8ac_11e9_ad25_c85b76c62436row2_col3\" class=\"data row2 col3\" >0.00%</td> \n",
       "        <td id=\"T_d3f872c4_c8ac_11e9_ad25_c85b76c62436row2_col4\" class=\"data row2 col4\" >4.62%</td> \n",
       "    </tr>    <tr> \n",
       "        <th id=\"T_d3f872c4_c8ac_11e9_ad25_c85b76c62436level0_row3\" class=\"row_heading level0 row3\" >3</th> \n",
       "        <td id=\"T_d3f872c4_c8ac_11e9_ad25_c85b76c62436row3_col0\" class=\"data row3 col0\" >0.13%</td> \n",
       "        <td id=\"T_d3f872c4_c8ac_11e9_ad25_c85b76c62436row3_col1\" class=\"data row3 col1\" >0.00%</td> \n",
       "        <td id=\"T_d3f872c4_c8ac_11e9_ad25_c85b76c62436row3_col2\" class=\"data row3 col2\" >0.01%</td> \n",
       "        <td id=\"T_d3f872c4_c8ac_11e9_ad25_c85b76c62436row3_col3\" class=\"data row3 col3\" >0.00%</td> \n",
       "        <td id=\"T_d3f872c4_c8ac_11e9_ad25_c85b76c62436row3_col4\" class=\"data row3 col4\" >0.76%</td> \n",
       "    </tr>    <tr> \n",
       "        <th id=\"T_d3f872c4_c8ac_11e9_ad25_c85b76c62436level0_row4\" class=\"row_heading level0 row4\" >4</th> \n",
       "        <td id=\"T_d3f872c4_c8ac_11e9_ad25_c85b76c62436row4_col0\" class=\"data row4 col0\" >0.01%</td> \n",
       "        <td id=\"T_d3f872c4_c8ac_11e9_ad25_c85b76c62436row4_col1\" class=\"data row4 col1\" >0.00%</td> \n",
       "        <td id=\"T_d3f872c4_c8ac_11e9_ad25_c85b76c62436row4_col2\" class=\"data row4 col2\" >0.04%</td> \n",
       "        <td id=\"T_d3f872c4_c8ac_11e9_ad25_c85b76c62436row4_col3\" class=\"data row4 col3\" >0.00%</td> \n",
       "        <td id=\"T_d3f872c4_c8ac_11e9_ad25_c85b76c62436row4_col4\" class=\"data row4 col4\" >0.11%</td> \n",
       "    </tr>    <tr> \n",
       "        <th id=\"T_d3f872c4_c8ac_11e9_ad25_c85b76c62436level0_row5\" class=\"row_heading level0 row5\" >5</th> \n",
       "        <td id=\"T_d3f872c4_c8ac_11e9_ad25_c85b76c62436row5_col0\" class=\"data row5 col0\" >0.00%</td> \n",
       "        <td id=\"T_d3f872c4_c8ac_11e9_ad25_c85b76c62436row5_col1\" class=\"data row5 col1\" >0.00%</td> \n",
       "        <td id=\"T_d3f872c4_c8ac_11e9_ad25_c85b76c62436row5_col2\" class=\"data row5 col2\" >0.00%</td> \n",
       "        <td id=\"T_d3f872c4_c8ac_11e9_ad25_c85b76c62436row5_col3\" class=\"data row5 col3\" >0.00%</td> \n",
       "        <td id=\"T_d3f872c4_c8ac_11e9_ad25_c85b76c62436row5_col4\" class=\"data row5 col4\" >0.01%</td> \n",
       "    </tr></tbody> \n",
       "</table> "
      ],
      "text/plain": [
       "<pandas.io.formats.style.Styler at 0x7facf12dfa58>"
      ]
     },
     "execution_count": 3,
     "metadata": {},
     "output_type": "execute_result"
    }
   ],
   "source": [
    "df = calc_isotopologue_prob('NAD')\n",
    "print(calc_isotopologue_correction('NAD'))\n",
    "df.loc[:5].style.format(\"{:.2%}\")"
   ]
  },
  {
   "cell_type": "code",
   "execution_count": 2,
   "metadata": {
    "scrolled": true
   },
   "outputs": [
    {
     "name": "stdout",
     "output_type": "stream",
     "text": [
      "1.3298580693720559\n"
     ]
    },
    {
     "data": {
      "text/html": [
       "<style  type=\"text/css\" >\n",
       "</style>  \n",
       "<table id=\"T_d3bb5d08_c8ac_11e9_ad25_c85b76c62436\" > \n",
       "<thead>    <tr> \n",
       "        <th class=\"blank level0\" ></th> \n",
       "        <th class=\"col_heading level0 col0\" >C</th> \n",
       "        <th class=\"col_heading level0 col1\" >N</th> \n",
       "        <th class=\"col_heading level0 col2\" >O</th> \n",
       "        <th class=\"col_heading level0 col3\" >H</th> \n",
       "        <th class=\"col_heading level0 col4\" >total</th> \n",
       "    </tr></thead> \n",
       "<tbody>    <tr> \n",
       "        <th id=\"T_d3bb5d08_c8ac_11e9_ad25_c85b76c62436level0_row0\" class=\"row_heading level0 row0\" >0</th> \n",
       "        <td id=\"T_d3bb5d08_c8ac_11e9_ad25_c85b76c62436row0_col0\" class=\"data row0 col0\" >79.78%</td> \n",
       "        <td id=\"T_d3bb5d08_c8ac_11e9_ad25_c85b76c62436row0_col1\" class=\"data row0 col1\" >97.84%</td> \n",
       "        <td id=\"T_d3bb5d08_c8ac_11e9_ad25_c85b76c62436row0_col2\" class=\"data row0 col2\" >96.65%</td> \n",
       "        <td id=\"T_d3bb5d08_c8ac_11e9_ad25_c85b76c62436row0_col3\" class=\"data row0 col3\" >99.68%</td> \n",
       "        <td id=\"T_d3bb5d08_c8ac_11e9_ad25_c85b76c62436row0_col4\" class=\"data row0 col4\" >75.20%</td> \n",
       "    </tr>    <tr> \n",
       "        <th id=\"T_d3bb5d08_c8ac_11e9_ad25_c85b76c62436level0_row1\" class=\"row_heading level0 row1\" >1</th> \n",
       "        <td id=\"T_d3bb5d08_c8ac_11e9_ad25_c85b76c62436row1_col0\" class=\"data row1 col0\" >18.12%</td> \n",
       "        <td id=\"T_d3bb5d08_c8ac_11e9_ad25_c85b76c62436row1_col1\" class=\"data row1 col1\" >2.14%</td> \n",
       "        <td id=\"T_d3bb5d08_c8ac_11e9_ad25_c85b76c62436row1_col2\" class=\"data row1 col2\" >0.52%</td> \n",
       "        <td id=\"T_d3bb5d08_c8ac_11e9_ad25_c85b76c62436row1_col3\" class=\"data row1 col3\" >0.32%</td> \n",
       "        <td id=\"T_d3bb5d08_c8ac_11e9_ad25_c85b76c62436row1_col4\" class=\"data row1 col4\" >19.37%</td> \n",
       "    </tr>    <tr> \n",
       "        <th id=\"T_d3bb5d08_c8ac_11e9_ad25_c85b76c62436level0_row2\" class=\"row_heading level0 row2\" >2</th> \n",
       "        <td id=\"T_d3bb5d08_c8ac_11e9_ad25_c85b76c62436row2_col0\" class=\"data row2 col0\" >1.96%</td> \n",
       "        <td id=\"T_d3bb5d08_c8ac_11e9_ad25_c85b76c62436row2_col1\" class=\"data row2 col1\" >0.02%</td> \n",
       "        <td id=\"T_d3bb5d08_c8ac_11e9_ad25_c85b76c62436row2_col2\" class=\"data row2 col2\" >2.78%</td> \n",
       "        <td id=\"T_d3bb5d08_c8ac_11e9_ad25_c85b76c62436row2_col3\" class=\"data row2 col3\" >0.00%</td> \n",
       "        <td id=\"T_d3bb5d08_c8ac_11e9_ad25_c85b76c62436row2_col4\" class=\"data row2 col4\" >4.56%</td> \n",
       "    </tr>    <tr> \n",
       "        <th id=\"T_d3bb5d08_c8ac_11e9_ad25_c85b76c62436level0_row3\" class=\"row_heading level0 row3\" >3</th> \n",
       "        <td id=\"T_d3bb5d08_c8ac_11e9_ad25_c85b76c62436row3_col0\" class=\"data row3 col0\" >0.13%</td> \n",
       "        <td id=\"T_d3bb5d08_c8ac_11e9_ad25_c85b76c62436row3_col1\" class=\"data row3 col1\" >0.00%</td> \n",
       "        <td id=\"T_d3bb5d08_c8ac_11e9_ad25_c85b76c62436row3_col2\" class=\"data row3 col2\" >0.01%</td> \n",
       "        <td id=\"T_d3bb5d08_c8ac_11e9_ad25_c85b76c62436row3_col3\" class=\"data row3 col3\" >0.00%</td> \n",
       "        <td id=\"T_d3bb5d08_c8ac_11e9_ad25_c85b76c62436row3_col4\" class=\"data row3 col4\" >0.75%</td> \n",
       "    </tr>    <tr> \n",
       "        <th id=\"T_d3bb5d08_c8ac_11e9_ad25_c85b76c62436level0_row4\" class=\"row_heading level0 row4\" >4</th> \n",
       "        <td id=\"T_d3bb5d08_c8ac_11e9_ad25_c85b76c62436row4_col0\" class=\"data row4 col0\" >0.01%</td> \n",
       "        <td id=\"T_d3bb5d08_c8ac_11e9_ad25_c85b76c62436row4_col1\" class=\"data row4 col1\" >0.00%</td> \n",
       "        <td id=\"T_d3bb5d08_c8ac_11e9_ad25_c85b76c62436row4_col2\" class=\"data row4 col2\" >0.04%</td> \n",
       "        <td id=\"T_d3bb5d08_c8ac_11e9_ad25_c85b76c62436row4_col3\" class=\"data row4 col3\" >0.00%</td> \n",
       "        <td id=\"T_d3bb5d08_c8ac_11e9_ad25_c85b76c62436row4_col4\" class=\"data row4 col4\" >0.11%</td> \n",
       "    </tr>    <tr> \n",
       "        <th id=\"T_d3bb5d08_c8ac_11e9_ad25_c85b76c62436level0_row5\" class=\"row_heading level0 row5\" >5</th> \n",
       "        <td id=\"T_d3bb5d08_c8ac_11e9_ad25_c85b76c62436row5_col0\" class=\"data row5 col0\" >0.00%</td> \n",
       "        <td id=\"T_d3bb5d08_c8ac_11e9_ad25_c85b76c62436row5_col1\" class=\"data row5 col1\" >0.00%</td> \n",
       "        <td id=\"T_d3bb5d08_c8ac_11e9_ad25_c85b76c62436row5_col2\" class=\"data row5 col2\" >0.00%</td> \n",
       "        <td id=\"T_d3bb5d08_c8ac_11e9_ad25_c85b76c62436row5_col3\" class=\"data row5 col3\" >0.00%</td> \n",
       "        <td id=\"T_d3bb5d08_c8ac_11e9_ad25_c85b76c62436row5_col4\" class=\"data row5 col4\" >0.01%</td> \n",
       "    </tr></tbody> \n",
       "</table> "
      ],
      "text/plain": [
       "<pandas.io.formats.style.Styler at 0x7facf3d642e8>"
      ]
     },
     "execution_count": 2,
     "metadata": {},
     "output_type": "execute_result"
    }
   ],
   "source": [
    "df = calc_isotopologue_prob('NAD', label='N15')\n",
    "print(calc_isotopologue_correction('NAD', label='N15'))\n",
    "df.loc[:5].style.format(\"{:.2%}\")"
   ]
  },
  {
   "cell_type": "code",
   "execution_count": 5,
   "metadata": {
    "scrolled": true
   },
   "outputs": [
    {
     "name": "stdout",
     "output_type": "stream",
     "text": [
      "1.2648209611016088\n"
     ]
    },
    {
     "data": {
      "text/html": [
       "<style  type=\"text/css\" >\n",
       "</style>  \n",
       "<table id=\"T_f467a020_c8ac_11e9_ad25_c85b76c62436\" > \n",
       "<thead>    <tr> \n",
       "        <th class=\"blank level0\" ></th> \n",
       "        <th class=\"col_heading level0 col0\" >C</th> \n",
       "        <th class=\"col_heading level0 col1\" >N</th> \n",
       "        <th class=\"col_heading level0 col2\" >O</th> \n",
       "        <th class=\"col_heading level0 col3\" >H</th> \n",
       "        <th class=\"col_heading level0 col4\" >total</th> \n",
       "    </tr></thead> \n",
       "<tbody>    <tr> \n",
       "        <th id=\"T_f467a020_c8ac_11e9_ad25_c85b76c62436level0_row0\" class=\"row_heading level0 row0\" >0</th> \n",
       "        <td id=\"T_f467a020_c8ac_11e9_ad25_c85b76c62436row0_col0\" class=\"data row0 col0\" >84.19%</td> \n",
       "        <td id=\"T_f467a020_c8ac_11e9_ad25_c85b76c62436row0_col1\" class=\"data row0 col1\" >97.48%</td> \n",
       "        <td id=\"T_f467a020_c8ac_11e9_ad25_c85b76c62436row0_col2\" class=\"data row0 col2\" >96.65%</td> \n",
       "        <td id=\"T_f467a020_c8ac_11e9_ad25_c85b76c62436row0_col3\" class=\"data row0 col3\" >99.68%</td> \n",
       "        <td id=\"T_f467a020_c8ac_11e9_ad25_c85b76c62436row0_col4\" class=\"data row0 col4\" >79.06%</td> \n",
       "    </tr>    <tr> \n",
       "        <th id=\"T_f467a020_c8ac_11e9_ad25_c85b76c62436level0_row1\" class=\"row_heading level0 row1\" >1</th> \n",
       "        <td id=\"T_f467a020_c8ac_11e9_ad25_c85b76c62436row1_col0\" class=\"data row1 col0\" >14.57%</td> \n",
       "        <td id=\"T_f467a020_c8ac_11e9_ad25_c85b76c62436row1_col1\" class=\"data row1 col1\" >2.49%</td> \n",
       "        <td id=\"T_f467a020_c8ac_11e9_ad25_c85b76c62436row1_col2\" class=\"data row1 col2\" >0.52%</td> \n",
       "        <td id=\"T_f467a020_c8ac_11e9_ad25_c85b76c62436row1_col3\" class=\"data row1 col3\" >0.32%</td> \n",
       "        <td id=\"T_f467a020_c8ac_11e9_ad25_c85b76c62436row1_col4\" class=\"data row1 col4\" >16.38%</td> \n",
       "    </tr>    <tr> \n",
       "        <th id=\"T_f467a020_c8ac_11e9_ad25_c85b76c62436level0_row2\" class=\"row_heading level0 row2\" >2</th> \n",
       "        <td id=\"T_f467a020_c8ac_11e9_ad25_c85b76c62436row2_col0\" class=\"data row2 col0\" >1.18%</td> \n",
       "        <td id=\"T_f467a020_c8ac_11e9_ad25_c85b76c62436row2_col1\" class=\"data row2 col1\" >0.03%</td> \n",
       "        <td id=\"T_f467a020_c8ac_11e9_ad25_c85b76c62436row2_col2\" class=\"data row2 col2\" >2.78%</td> \n",
       "        <td id=\"T_f467a020_c8ac_11e9_ad25_c85b76c62436row2_col3\" class=\"data row2 col3\" >0.00%</td> \n",
       "        <td id=\"T_f467a020_c8ac_11e9_ad25_c85b76c62436row2_col4\" class=\"data row2 col4\" >3.89%</td> \n",
       "    </tr>    <tr> \n",
       "        <th id=\"T_f467a020_c8ac_11e9_ad25_c85b76c62436level0_row3\" class=\"row_heading level0 row3\" >3</th> \n",
       "        <td id=\"T_f467a020_c8ac_11e9_ad25_c85b76c62436row3_col0\" class=\"data row3 col0\" >0.06%</td> \n",
       "        <td id=\"T_f467a020_c8ac_11e9_ad25_c85b76c62436row3_col1\" class=\"data row3 col1\" >0.00%</td> \n",
       "        <td id=\"T_f467a020_c8ac_11e9_ad25_c85b76c62436row3_col2\" class=\"data row3 col2\" >0.01%</td> \n",
       "        <td id=\"T_f467a020_c8ac_11e9_ad25_c85b76c62436row3_col3\" class=\"data row3 col3\" >0.00%</td> \n",
       "        <td id=\"T_f467a020_c8ac_11e9_ad25_c85b76c62436row3_col4\" class=\"data row3 col4\" >0.57%</td> \n",
       "    </tr>    <tr> \n",
       "        <th id=\"T_f467a020_c8ac_11e9_ad25_c85b76c62436level0_row4\" class=\"row_heading level0 row4\" >4</th> \n",
       "        <td id=\"T_f467a020_c8ac_11e9_ad25_c85b76c62436row4_col0\" class=\"data row4 col0\" >0.00%</td> \n",
       "        <td id=\"T_f467a020_c8ac_11e9_ad25_c85b76c62436row4_col1\" class=\"data row4 col1\" >0.00%</td> \n",
       "        <td id=\"T_f467a020_c8ac_11e9_ad25_c85b76c62436row4_col2\" class=\"data row4 col2\" >0.04%</td> \n",
       "        <td id=\"T_f467a020_c8ac_11e9_ad25_c85b76c62436row4_col3\" class=\"data row4 col3\" >0.00%</td> \n",
       "        <td id=\"T_f467a020_c8ac_11e9_ad25_c85b76c62436row4_col4\" class=\"data row4 col4\" >0.08%</td> \n",
       "    </tr>    <tr> \n",
       "        <th id=\"T_f467a020_c8ac_11e9_ad25_c85b76c62436level0_row5\" class=\"row_heading level0 row5\" >5</th> \n",
       "        <td id=\"T_f467a020_c8ac_11e9_ad25_c85b76c62436row5_col0\" class=\"data row5 col0\" >0.00%</td> \n",
       "        <td id=\"T_f467a020_c8ac_11e9_ad25_c85b76c62436row5_col1\" class=\"data row5 col1\" >0.00%</td> \n",
       "        <td id=\"T_f467a020_c8ac_11e9_ad25_c85b76c62436row5_col2\" class=\"data row5 col2\" >0.00%</td> \n",
       "        <td id=\"T_f467a020_c8ac_11e9_ad25_c85b76c62436row5_col3\" class=\"data row5 col3\" >0.00%</td> \n",
       "        <td id=\"T_f467a020_c8ac_11e9_ad25_c85b76c62436row5_col4\" class=\"data row5 col4\" >0.01%</td> \n",
       "    </tr></tbody> \n",
       "</table> "
      ],
      "text/plain": [
       "<pandas.io.formats.style.Styler at 0x7facf125ea90>"
      ]
     },
     "execution_count": 5,
     "metadata": {},
     "output_type": "execute_result"
    }
   ],
   "source": [
    "df = calc_isotopologue_prob('NAD', label='5C13')\n",
    "print(calc_isotopologue_correction('NAD', label='5C13'))\n",
    "df.loc[:5].style.format(\"{:.2%}\")"
   ]
  },
  {
   "cell_type": "markdown",
   "metadata": {},
   "source": [
    "## Probabilities for unlabelled ATP isotopologues"
   ]
  },
  {
   "cell_type": "code",
   "execution_count": 4,
   "metadata": {
    "scrolled": false
   },
   "outputs": [
    {
     "data": {
      "text/html": [
       "<style  type=\"text/css\" >\n",
       "</style>  \n",
       "<table id=\"T_d4045c24_c8ac_11e9_ad25_c85b76c62436\" > \n",
       "<thead>    <tr> \n",
       "        <th class=\"blank level0\" ></th> \n",
       "        <th class=\"col_heading level0 col0\" >C</th> \n",
       "        <th class=\"col_heading level0 col1\" >N</th> \n",
       "        <th class=\"col_heading level0 col2\" >O</th> \n",
       "        <th class=\"col_heading level0 col3\" >H</th> \n",
       "        <th class=\"col_heading level0 col4\" >total</th> \n",
       "    </tr></thead> \n",
       "<tbody>    <tr> \n",
       "        <th id=\"T_d4045c24_c8ac_11e9_ad25_c85b76c62436level0_row0\" class=\"row_heading level0 row0\" >0</th> \n",
       "        <td id=\"T_d4045c24_c8ac_11e9_ad25_c85b76c62436row0_col0\" class=\"data row0 col0\" >89.80%</td> \n",
       "        <td id=\"T_d4045c24_c8ac_11e9_ad25_c85b76c62436row0_col1\" class=\"data row0 col1\" >98.19%</td> \n",
       "        <td id=\"T_d4045c24_c8ac_11e9_ad25_c85b76c62436row0_col2\" class=\"data row0 col2\" >97.60%</td> \n",
       "        <td id=\"T_d4045c24_c8ac_11e9_ad25_c85b76c62436row0_col3\" class=\"data row0 col3\" >99.82%</td> \n",
       "        <td id=\"T_d4045c24_c8ac_11e9_ad25_c85b76c62436row0_col4\" class=\"data row0 col4\" >85.90%</td> \n",
       "    </tr>    <tr> \n",
       "        <th id=\"T_d4045c24_c8ac_11e9_ad25_c85b76c62436level0_row1\" class=\"row_heading level0 row1\" >1</th> \n",
       "        <td id=\"T_d4045c24_c8ac_11e9_ad25_c85b76c62436row1_col0\" class=\"data row1 col0\" >9.71%</td> \n",
       "        <td id=\"T_d4045c24_c8ac_11e9_ad25_c85b76c62436row1_col1\" class=\"data row1 col1\" >1.79%</td> \n",
       "        <td id=\"T_d4045c24_c8ac_11e9_ad25_c85b76c62436row1_col2\" class=\"data row1 col2\" >0.37%</td> \n",
       "        <td id=\"T_d4045c24_c8ac_11e9_ad25_c85b76c62436row1_col3\" class=\"data row1 col3\" >0.18%</td> \n",
       "        <td id=\"T_d4045c24_c8ac_11e9_ad25_c85b76c62436row1_col4\" class=\"data row1 col4\" >11.35%</td> \n",
       "    </tr>    <tr> \n",
       "        <th id=\"T_d4045c24_c8ac_11e9_ad25_c85b76c62436level0_row2\" class=\"row_heading level0 row2\" >2</th> \n",
       "        <td id=\"T_d4045c24_c8ac_11e9_ad25_c85b76c62436row2_col0\" class=\"data row2 col0\" >0.47%</td> \n",
       "        <td id=\"T_d4045c24_c8ac_11e9_ad25_c85b76c62436row2_col1\" class=\"data row2 col1\" >0.01%</td> \n",
       "        <td id=\"T_d4045c24_c8ac_11e9_ad25_c85b76c62436row2_col2\" class=\"data row2 col2\" >2.01%</td> \n",
       "        <td id=\"T_d4045c24_c8ac_11e9_ad25_c85b76c62436row2_col3\" class=\"data row2 col3\" >0.00%</td> \n",
       "        <td id=\"T_d4045c24_c8ac_11e9_ad25_c85b76c62436row2_col4\" class=\"data row2 col4\" >2.46%</td> \n",
       "    </tr>    <tr> \n",
       "        <th id=\"T_d4045c24_c8ac_11e9_ad25_c85b76c62436level0_row3\" class=\"row_heading level0 row3\" >3</th> \n",
       "        <td id=\"T_d4045c24_c8ac_11e9_ad25_c85b76c62436row3_col0\" class=\"data row3 col0\" >0.01%</td> \n",
       "        <td id=\"T_d4045c24_c8ac_11e9_ad25_c85b76c62436row3_col1\" class=\"data row3 col1\" >0.00%</td> \n",
       "        <td id=\"T_d4045c24_c8ac_11e9_ad25_c85b76c62436row3_col2\" class=\"data row3 col2\" >0.01%</td> \n",
       "        <td id=\"T_d4045c24_c8ac_11e9_ad25_c85b76c62436row3_col3\" class=\"data row3 col3\" >0.00%</td> \n",
       "        <td id=\"T_d4045c24_c8ac_11e9_ad25_c85b76c62436row3_col4\" class=\"data row3 col4\" >0.26%</td> \n",
       "    </tr>    <tr> \n",
       "        <th id=\"T_d4045c24_c8ac_11e9_ad25_c85b76c62436level0_row4\" class=\"row_heading level0 row4\" >4</th> \n",
       "        <td id=\"T_d4045c24_c8ac_11e9_ad25_c85b76c62436row4_col0\" class=\"data row4 col0\" >0.00%</td> \n",
       "        <td id=\"T_d4045c24_c8ac_11e9_ad25_c85b76c62436row4_col1\" class=\"data row4 col1\" >0.00%</td> \n",
       "        <td id=\"T_d4045c24_c8ac_11e9_ad25_c85b76c62436row4_col2\" class=\"data row4 col2\" >0.02%</td> \n",
       "        <td id=\"T_d4045c24_c8ac_11e9_ad25_c85b76c62436row4_col3\" class=\"data row4 col3\" >0.00%</td> \n",
       "        <td id=\"T_d4045c24_c8ac_11e9_ad25_c85b76c62436row4_col4\" class=\"data row4 col4\" >0.03%</td> \n",
       "    </tr>    <tr> \n",
       "        <th id=\"T_d4045c24_c8ac_11e9_ad25_c85b76c62436level0_row5\" class=\"row_heading level0 row5\" >5</th> \n",
       "        <td id=\"T_d4045c24_c8ac_11e9_ad25_c85b76c62436row5_col0\" class=\"data row5 col0\" >0.00%</td> \n",
       "        <td id=\"T_d4045c24_c8ac_11e9_ad25_c85b76c62436row5_col1\" class=\"data row5 col1\" >0.00%</td> \n",
       "        <td id=\"T_d4045c24_c8ac_11e9_ad25_c85b76c62436row5_col2\" class=\"data row5 col2\" >0.00%</td> \n",
       "        <td id=\"T_d4045c24_c8ac_11e9_ad25_c85b76c62436row5_col3\" class=\"data row5 col3\" >0.00%</td> \n",
       "        <td id=\"T_d4045c24_c8ac_11e9_ad25_c85b76c62436row5_col4\" class=\"data row5 col4\" >0.00%</td> \n",
       "    </tr></tbody> \n",
       "</table> "
      ],
      "text/plain": [
       "<pandas.io.formats.style.Styler at 0x7facf12dfda0>"
      ]
     },
     "execution_count": 4,
     "metadata": {},
     "output_type": "execute_result"
    }
   ],
   "source": [
    "df = calc_isotopologue_prob('ATP')\n",
    "\n",
    "df.loc[:5].style.format(\"{:.2%}\")"
   ]
  }
 ],
 "metadata": {
  "kernelspec": {
   "display_name": "Python 3",
   "language": "python",
   "name": "python3"
  },
  "language_info": {
   "codemirror_mode": {
    "name": "ipython",
    "version": 3
   },
   "file_extension": ".py",
   "mimetype": "text/x-python",
   "name": "python",
   "nbconvert_exporter": "python",
   "pygments_lexer": "ipython3",
   "version": "3.6.7"
  },
  "latex_envs": {
   "LaTeX_envs_menu_present": true,
   "autoclose": false,
   "autocomplete": true,
   "bibliofile": "biblio.bib",
   "cite_by": "apalike",
   "current_citInitial": 1,
   "eqLabelWithNumbers": true,
   "eqNumInitial": 1,
   "hotkeys": {
    "equation": "Ctrl-E",
    "itemize": "Ctrl-I"
   },
   "labels_anchors": false,
   "latex_user_defs": false,
   "report_style_numbering": false,
   "user_envs_cfg": false
  }
 },
 "nbformat": 4,
 "nbformat_minor": 2
}
