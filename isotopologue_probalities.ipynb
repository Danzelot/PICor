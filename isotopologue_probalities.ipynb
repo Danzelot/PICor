{
 "cells": [
  {
   "cell_type": "code",
   "execution_count": 1,
   "metadata": {
    "hide_input": false,
    "scrolled": true
   },
   "outputs": [],
   "source": [
    "import pandas as pd\n",
    "from src.isotope_correction import calc_isotopologue_prob, calc_isotopologue_correction"
   ]
  },
  {
   "cell_type": "markdown",
   "metadata": {},
   "source": [
    "# Calculation of Isotopologue Correction Factors\n",
    "## Background\n",
    "Most elements occur naturally in different isotopes which almost excactly the same chemical properties.\n",
    "\n",
    "The most important element with  for biological compounds are:\n",
    "\n",
    "|Isotope | % nat. abundance | atomic mass\n",
    "| --- | --- | --- \n",
    "| <sup>1</sup>H | 99.985 | 1.007825\n",
    "| <sup>2</sup>H | 0.015 | 2.0140\n",
    "| <sup>12</sup>C | 98.89 | 12\n",
    "| <sup>13</sup>C | 1.11 | 13.00335\n",
    "| <sup>14</sup>N | 99.64 | 14.00307\n",
    "| <sup>15</sup>N | 0.36 | 15.00011\n",
    "| <sup>16</sup>O | 99.76 | 15.99491\n",
    "| <sup>17</sup>O | 0.04| 16.99913\n",
    "| <sup>18</sup>O | 0.2| 17.99916\n",
    "| <sup>28</sup>Si | 92.23 | 27.97693\n",
    "| <sup>29</sup>Si | 4.67 | 28.97649\n",
    "| <sup>30</sup>Si | 3.10 | 29.97376\n",
    "| <sup>32</sup>S  | 95.0 | 31.97207\n",
    "| <sup>33</sup>S  | 0.76 | 32.97146\n",
    "| <sup>34</sup>S  | 4.22 | 33.96786\n",
    "| <sup>35</sup>Cl | 75.77 | 34.96885\n",
    "| <sup>37</sup>Cl | 24.23 | 36.96590\n",
    "| <sup>79</sup>Br  | 50.69 | 78.9183\n",
    "| <sup>81</sup>Br  | 49.31 | 80.9163\n",
    "\n",
    "Every naturally occuring chemical compound have an isotope composition reflecting the natural isotope distribution as shown above.\n"
   ]
  },
  {
   "cell_type": "markdown",
   "metadata": {},
   "source": [
    "## Probabilities for unlabelled NAD isotopologues"
   ]
  },
  {
   "cell_type": "code",
   "execution_count": 2,
   "metadata": {
    "scrolled": true
   },
   "outputs": [
    {
     "name": "stdout",
     "output_type": "stream",
     "text": [
      "Correction factor: 1.3347164372034768\n"
     ]
    },
    {
     "data": {
      "text/html": [
       "<style  type=\"text/css\" >\n",
       "</style><table id=\"T_a29310b0_821d_11ea_b328_c85b76c62436\" ><thead>    <tr>        <th class=\"blank level0\" ></th>        <th class=\"col_heading level0 col0\" >C</th>        <th class=\"col_heading level0 col1\" >N</th>        <th class=\"col_heading level0 col2\" >O</th>        <th class=\"col_heading level0 col3\" >H</th>        <th class=\"col_heading level0 col4\" >total</th>    </tr></thead><tbody>\n",
       "                <tr>\n",
       "                        <th id=\"T_a29310b0_821d_11ea_b328_c85b76c62436level0_row0\" class=\"row_heading level0 row0\" >0</th>\n",
       "                        <td id=\"T_a29310b0_821d_11ea_b328_c85b76c62436row0_col0\" class=\"data row0 col0\" >79.8%</td>\n",
       "                        <td id=\"T_a29310b0_821d_11ea_b328_c85b76c62436row0_col1\" class=\"data row0 col1\" >97.5%</td>\n",
       "                        <td id=\"T_a29310b0_821d_11ea_b328_c85b76c62436row0_col2\" class=\"data row0 col2\" >96.7%</td>\n",
       "                        <td id=\"T_a29310b0_821d_11ea_b328_c85b76c62436row0_col3\" class=\"data row0 col3\" >99.7%</td>\n",
       "                        <td id=\"T_a29310b0_821d_11ea_b328_c85b76c62436row0_col4\" class=\"data row0 col4\" >74.9%</td>\n",
       "            </tr>\n",
       "            <tr>\n",
       "                        <th id=\"T_a29310b0_821d_11ea_b328_c85b76c62436level0_row1\" class=\"row_heading level0 row1\" >1</th>\n",
       "                        <td id=\"T_a29310b0_821d_11ea_b328_c85b76c62436row1_col0\" class=\"data row1 col0\" >18.1%</td>\n",
       "                        <td id=\"T_a29310b0_821d_11ea_b328_c85b76c62436row1_col1\" class=\"data row1 col1\" >2.5%</td>\n",
       "                        <td id=\"T_a29310b0_821d_11ea_b328_c85b76c62436row1_col2\" class=\"data row1 col2\" >0.5%</td>\n",
       "                        <td id=\"T_a29310b0_821d_11ea_b328_c85b76c62436row1_col3\" class=\"data row1 col3\" >0.3%</td>\n",
       "                        <td id=\"T_a29310b0_821d_11ea_b328_c85b76c62436row1_col4\" class=\"data row1 col4\" >19.6%</td>\n",
       "            </tr>\n",
       "            <tr>\n",
       "                        <th id=\"T_a29310b0_821d_11ea_b328_c85b76c62436level0_row2\" class=\"row_heading level0 row2\" >2</th>\n",
       "                        <td id=\"T_a29310b0_821d_11ea_b328_c85b76c62436row2_col0\" class=\"data row2 col0\" >2.0%</td>\n",
       "                        <td id=\"T_a29310b0_821d_11ea_b328_c85b76c62436row2_col1\" class=\"data row2 col1\" >0.0%</td>\n",
       "                        <td id=\"T_a29310b0_821d_11ea_b328_c85b76c62436row2_col2\" class=\"data row2 col2\" >2.8%</td>\n",
       "                        <td id=\"T_a29310b0_821d_11ea_b328_c85b76c62436row2_col3\" class=\"data row2 col3\" >0.0%</td>\n",
       "                        <td id=\"T_a29310b0_821d_11ea_b328_c85b76c62436row2_col4\" class=\"data row2 col4\" >4.6%</td>\n",
       "            </tr>\n",
       "            <tr>\n",
       "                        <th id=\"T_a29310b0_821d_11ea_b328_c85b76c62436level0_row3\" class=\"row_heading level0 row3\" >3</th>\n",
       "                        <td id=\"T_a29310b0_821d_11ea_b328_c85b76c62436row3_col0\" class=\"data row3 col0\" >0.1%</td>\n",
       "                        <td id=\"T_a29310b0_821d_11ea_b328_c85b76c62436row3_col1\" class=\"data row3 col1\" >0.0%</td>\n",
       "                        <td id=\"T_a29310b0_821d_11ea_b328_c85b76c62436row3_col2\" class=\"data row3 col2\" >0.0%</td>\n",
       "                        <td id=\"T_a29310b0_821d_11ea_b328_c85b76c62436row3_col3\" class=\"data row3 col3\" >0.0%</td>\n",
       "                        <td id=\"T_a29310b0_821d_11ea_b328_c85b76c62436row3_col4\" class=\"data row3 col4\" >0.8%</td>\n",
       "            </tr>\n",
       "            <tr>\n",
       "                        <th id=\"T_a29310b0_821d_11ea_b328_c85b76c62436level0_row4\" class=\"row_heading level0 row4\" >4</th>\n",
       "                        <td id=\"T_a29310b0_821d_11ea_b328_c85b76c62436row4_col0\" class=\"data row4 col0\" >0.0%</td>\n",
       "                        <td id=\"T_a29310b0_821d_11ea_b328_c85b76c62436row4_col1\" class=\"data row4 col1\" >0.0%</td>\n",
       "                        <td id=\"T_a29310b0_821d_11ea_b328_c85b76c62436row4_col2\" class=\"data row4 col2\" >0.0%</td>\n",
       "                        <td id=\"T_a29310b0_821d_11ea_b328_c85b76c62436row4_col3\" class=\"data row4 col3\" >0.0%</td>\n",
       "                        <td id=\"T_a29310b0_821d_11ea_b328_c85b76c62436row4_col4\" class=\"data row4 col4\" >0.1%</td>\n",
       "            </tr>\n",
       "            <tr>\n",
       "                        <th id=\"T_a29310b0_821d_11ea_b328_c85b76c62436level0_row5\" class=\"row_heading level0 row5\" >5</th>\n",
       "                        <td id=\"T_a29310b0_821d_11ea_b328_c85b76c62436row5_col0\" class=\"data row5 col0\" >0.0%</td>\n",
       "                        <td id=\"T_a29310b0_821d_11ea_b328_c85b76c62436row5_col1\" class=\"data row5 col1\" >0.0%</td>\n",
       "                        <td id=\"T_a29310b0_821d_11ea_b328_c85b76c62436row5_col2\" class=\"data row5 col2\" >0.0%</td>\n",
       "                        <td id=\"T_a29310b0_821d_11ea_b328_c85b76c62436row5_col3\" class=\"data row5 col3\" >0.0%</td>\n",
       "                        <td id=\"T_a29310b0_821d_11ea_b328_c85b76c62436row5_col4\" class=\"data row5 col4\" >0.0%</td>\n",
       "            </tr>\n",
       "    </tbody></table>"
      ],
      "text/plain": [
       "<pandas.io.formats.style.Styler at 0x7f6d70493af0>"
      ]
     },
     "execution_count": 2,
     "metadata": {},
     "output_type": "execute_result"
    }
   ],
   "source": [
    "df = calc_isotopologue_prob('NAD')\n",
    "corr_factor = 1/df.total[0]\n",
    "print(f\"Correction factor: {corr_factor}\")\n",
    "df.loc[:5].style.format(\"{:.1%}\")"
   ]
  },
  {
   "cell_type": "code",
   "execution_count": 3,
   "metadata": {
    "scrolled": true
   },
   "outputs": [
    {
     "name": "stdout",
     "output_type": "stream",
     "text": [
      "Correction factor: 1.3204349713253993\n"
     ]
    },
    {
     "data": {
      "text/html": [
       "<style  type=\"text/css\" >\n",
       "</style><table id=\"T_a2ada54c_821d_11ea_b328_c85b76c62436\" ><thead>    <tr>        <th class=\"blank level0\" ></th>        <th class=\"col_heading level0 col0\" >C</th>        <th class=\"col_heading level0 col1\" >N</th>        <th class=\"col_heading level0 col2\" >O</th>        <th class=\"col_heading level0 col3\" >H</th>        <th class=\"col_heading level0 col4\" >total</th>    </tr></thead><tbody>\n",
       "                <tr>\n",
       "                        <th id=\"T_a2ada54c_821d_11ea_b328_c85b76c62436level0_row0\" class=\"row_heading level0 row0\" >0</th>\n",
       "                        <td id=\"T_a2ada54c_821d_11ea_b328_c85b76c62436row0_col0\" class=\"data row0 col0\" >80.6%</td>\n",
       "                        <td id=\"T_a2ada54c_821d_11ea_b328_c85b76c62436row0_col1\" class=\"data row0 col1\" >97.5%</td>\n",
       "                        <td id=\"T_a2ada54c_821d_11ea_b328_c85b76c62436row0_col2\" class=\"data row0 col2\" >96.7%</td>\n",
       "                        <td id=\"T_a2ada54c_821d_11ea_b328_c85b76c62436row0_col3\" class=\"data row0 col3\" >99.7%</td>\n",
       "                        <td id=\"T_a2ada54c_821d_11ea_b328_c85b76c62436row0_col4\" class=\"data row0 col4\" >75.7%</td>\n",
       "            </tr>\n",
       "            <tr>\n",
       "                        <th id=\"T_a2ada54c_821d_11ea_b328_c85b76c62436level0_row1\" class=\"row_heading level0 row1\" >1</th>\n",
       "                        <td id=\"T_a2ada54c_821d_11ea_b328_c85b76c62436row1_col0\" class=\"data row1 col0\" >17.4%</td>\n",
       "                        <td id=\"T_a2ada54c_821d_11ea_b328_c85b76c62436row1_col1\" class=\"data row1 col1\" >2.5%</td>\n",
       "                        <td id=\"T_a2ada54c_821d_11ea_b328_c85b76c62436row1_col2\" class=\"data row1 col2\" >0.5%</td>\n",
       "                        <td id=\"T_a2ada54c_821d_11ea_b328_c85b76c62436row1_col3\" class=\"data row1 col3\" >0.3%</td>\n",
       "                        <td id=\"T_a2ada54c_821d_11ea_b328_c85b76c62436row1_col4\" class=\"data row1 col4\" >19.0%</td>\n",
       "            </tr>\n",
       "            <tr>\n",
       "                        <th id=\"T_a2ada54c_821d_11ea_b328_c85b76c62436level0_row2\" class=\"row_heading level0 row2\" >2</th>\n",
       "                        <td id=\"T_a2ada54c_821d_11ea_b328_c85b76c62436row2_col0\" class=\"data row2 col0\" >1.8%</td>\n",
       "                        <td id=\"T_a2ada54c_821d_11ea_b328_c85b76c62436row2_col1\" class=\"data row2 col1\" >0.0%</td>\n",
       "                        <td id=\"T_a2ada54c_821d_11ea_b328_c85b76c62436row2_col2\" class=\"data row2 col2\" >2.8%</td>\n",
       "                        <td id=\"T_a2ada54c_821d_11ea_b328_c85b76c62436row2_col3\" class=\"data row2 col3\" >0.0%</td>\n",
       "                        <td id=\"T_a2ada54c_821d_11ea_b328_c85b76c62436row2_col4\" class=\"data row2 col4\" >4.5%</td>\n",
       "            </tr>\n",
       "            <tr>\n",
       "                        <th id=\"T_a2ada54c_821d_11ea_b328_c85b76c62436level0_row3\" class=\"row_heading level0 row3\" >3</th>\n",
       "                        <td id=\"T_a2ada54c_821d_11ea_b328_c85b76c62436row3_col0\" class=\"data row3 col0\" >0.1%</td>\n",
       "                        <td id=\"T_a2ada54c_821d_11ea_b328_c85b76c62436row3_col1\" class=\"data row3 col1\" >0.0%</td>\n",
       "                        <td id=\"T_a2ada54c_821d_11ea_b328_c85b76c62436row3_col2\" class=\"data row3 col2\" >0.0%</td>\n",
       "                        <td id=\"T_a2ada54c_821d_11ea_b328_c85b76c62436row3_col3\" class=\"data row3 col3\" >0.0%</td>\n",
       "                        <td id=\"T_a2ada54c_821d_11ea_b328_c85b76c62436row3_col4\" class=\"data row3 col4\" >0.7%</td>\n",
       "            </tr>\n",
       "            <tr>\n",
       "                        <th id=\"T_a2ada54c_821d_11ea_b328_c85b76c62436level0_row4\" class=\"row_heading level0 row4\" >4</th>\n",
       "                        <td id=\"T_a2ada54c_821d_11ea_b328_c85b76c62436row4_col0\" class=\"data row4 col0\" >0.0%</td>\n",
       "                        <td id=\"T_a2ada54c_821d_11ea_b328_c85b76c62436row4_col1\" class=\"data row4 col1\" >0.0%</td>\n",
       "                        <td id=\"T_a2ada54c_821d_11ea_b328_c85b76c62436row4_col2\" class=\"data row4 col2\" >0.0%</td>\n",
       "                        <td id=\"T_a2ada54c_821d_11ea_b328_c85b76c62436row4_col3\" class=\"data row4 col3\" >0.0%</td>\n",
       "                        <td id=\"T_a2ada54c_821d_11ea_b328_c85b76c62436row4_col4\" class=\"data row4 col4\" >0.1%</td>\n",
       "            </tr>\n",
       "            <tr>\n",
       "                        <th id=\"T_a2ada54c_821d_11ea_b328_c85b76c62436level0_row5\" class=\"row_heading level0 row5\" >5</th>\n",
       "                        <td id=\"T_a2ada54c_821d_11ea_b328_c85b76c62436row5_col0\" class=\"data row5 col0\" >0.0%</td>\n",
       "                        <td id=\"T_a2ada54c_821d_11ea_b328_c85b76c62436row5_col1\" class=\"data row5 col1\" >0.0%</td>\n",
       "                        <td id=\"T_a2ada54c_821d_11ea_b328_c85b76c62436row5_col2\" class=\"data row5 col2\" >0.0%</td>\n",
       "                        <td id=\"T_a2ada54c_821d_11ea_b328_c85b76c62436row5_col3\" class=\"data row5 col3\" >0.0%</td>\n",
       "                        <td id=\"T_a2ada54c_821d_11ea_b328_c85b76c62436row5_col4\" class=\"data row5 col4\" >0.0%</td>\n",
       "            </tr>\n",
       "    </tbody></table>"
      ],
      "text/plain": [
       "<pandas.io.formats.style.Styler at 0x7f6d497acf40>"
      ]
     },
     "execution_count": 3,
     "metadata": {},
     "output_type": "execute_result"
    }
   ],
   "source": [
    "df = calc_isotopologue_prob('NAD', label='C13')\n",
    "corr_factor = 1/df.total[0]\n",
    "print(f\"Correction factor: {corr_factor}\")\n",
    "df.loc[:5].style.format(\"{:.1%}\")"
   ]
  },
  {
   "cell_type": "code",
   "execution_count": 4,
   "metadata": {},
   "outputs": [
    {
     "data": {
      "text/html": [
       "<style  type=\"text/css\" >\n",
       "</style><table id=\"T_a2e0d822_821d_11ea_b328_c85b76c62436\" ><thead>    <tr>        <th class=\"blank level0\" ></th>        <th class=\"col_heading level0 col0\" >unlabelled NAD</th>        <th class=\"col_heading level0 col1\" >C13 labelled NAD</th>        <th class=\"col_heading level0 col2\" >Superpositon 75% unl NAD + 25% C13NAD</th>    </tr></thead><tbody>\n",
       "                <tr>\n",
       "                        <th id=\"T_a2e0d822_821d_11ea_b328_c85b76c62436level0_row0\" class=\"row_heading level0 row0\" >0</th>\n",
       "                        <td id=\"T_a2e0d822_821d_11ea_b328_c85b76c62436row0_col0\" class=\"data row0 col0\" >74.9%</td>\n",
       "                        <td id=\"T_a2e0d822_821d_11ea_b328_c85b76c62436row0_col1\" class=\"data row0 col1\" >0.0%</td>\n",
       "                        <td id=\"T_a2e0d822_821d_11ea_b328_c85b76c62436row0_col2\" class=\"data row0 col2\" >56.2%</td>\n",
       "            </tr>\n",
       "            <tr>\n",
       "                        <th id=\"T_a2e0d822_821d_11ea_b328_c85b76c62436level0_row1\" class=\"row_heading level0 row1\" >1</th>\n",
       "                        <td id=\"T_a2e0d822_821d_11ea_b328_c85b76c62436row1_col0\" class=\"data row1 col0\" >19.6%</td>\n",
       "                        <td id=\"T_a2e0d822_821d_11ea_b328_c85b76c62436row1_col1\" class=\"data row1 col1\" >75.7%</td>\n",
       "                        <td id=\"T_a2e0d822_821d_11ea_b328_c85b76c62436row1_col2\" class=\"data row1 col2\" >33.6%</td>\n",
       "            </tr>\n",
       "            <tr>\n",
       "                        <th id=\"T_a2e0d822_821d_11ea_b328_c85b76c62436level0_row2\" class=\"row_heading level0 row2\" >2</th>\n",
       "                        <td id=\"T_a2e0d822_821d_11ea_b328_c85b76c62436row2_col0\" class=\"data row2 col0\" >4.6%</td>\n",
       "                        <td id=\"T_a2e0d822_821d_11ea_b328_c85b76c62436row2_col1\" class=\"data row2 col1\" >19.0%</td>\n",
       "                        <td id=\"T_a2e0d822_821d_11ea_b328_c85b76c62436row2_col2\" class=\"data row2 col2\" >8.2%</td>\n",
       "            </tr>\n",
       "            <tr>\n",
       "                        <th id=\"T_a2e0d822_821d_11ea_b328_c85b76c62436level0_row3\" class=\"row_heading level0 row3\" >3</th>\n",
       "                        <td id=\"T_a2e0d822_821d_11ea_b328_c85b76c62436row3_col0\" class=\"data row3 col0\" >0.8%</td>\n",
       "                        <td id=\"T_a2e0d822_821d_11ea_b328_c85b76c62436row3_col1\" class=\"data row3 col1\" >4.5%</td>\n",
       "                        <td id=\"T_a2e0d822_821d_11ea_b328_c85b76c62436row3_col2\" class=\"data row3 col2\" >1.7%</td>\n",
       "            </tr>\n",
       "            <tr>\n",
       "                        <th id=\"T_a2e0d822_821d_11ea_b328_c85b76c62436level0_row4\" class=\"row_heading level0 row4\" >4</th>\n",
       "                        <td id=\"T_a2e0d822_821d_11ea_b328_c85b76c62436row4_col0\" class=\"data row4 col0\" >0.1%</td>\n",
       "                        <td id=\"T_a2e0d822_821d_11ea_b328_c85b76c62436row4_col1\" class=\"data row4 col1\" >0.7%</td>\n",
       "                        <td id=\"T_a2e0d822_821d_11ea_b328_c85b76c62436row4_col2\" class=\"data row4 col2\" >0.3%</td>\n",
       "            </tr>\n",
       "            <tr>\n",
       "                        <th id=\"T_a2e0d822_821d_11ea_b328_c85b76c62436level0_row5\" class=\"row_heading level0 row5\" >5</th>\n",
       "                        <td id=\"T_a2e0d822_821d_11ea_b328_c85b76c62436row5_col0\" class=\"data row5 col0\" >0.0%</td>\n",
       "                        <td id=\"T_a2e0d822_821d_11ea_b328_c85b76c62436row5_col1\" class=\"data row5 col1\" >0.1%</td>\n",
       "                        <td id=\"T_a2e0d822_821d_11ea_b328_c85b76c62436row5_col2\" class=\"data row5 col2\" >0.0%</td>\n",
       "            </tr>\n",
       "    </tbody></table>"
      ],
      "text/plain": [
       "<pandas.io.formats.style.Styler at 0x7f6d71cf9520>"
      ]
     },
     "execution_count": 4,
     "metadata": {},
     "output_type": "execute_result"
    }
   ],
   "source": [
    "unl = calc_isotopologue_prob(\"NAD\").total\n",
    "lab1 = calc_isotopologue_prob(\"NAD\", label=\"C13\").total\n",
    "lab1 = pd.concat([pd.Series([0]), lab1]).reset_index(drop = True)\n",
    "superposition = 0.75 * unl + 0.25 * lab1\n",
    "df = pd.concat([unl,lab1,superposition], axis=1)\n",
    "df.columns=[\"unlabelled NAD\", \"C13 labelled NAD\", \"Superpositon 75% unl NAD + 25% C13NAD\"]\n",
    "df.loc[:5,:].style.format(\"{:.1%}\")"
   ]
  },
  {
   "cell_type": "code",
   "execution_count": 5,
   "metadata": {
    "scrolled": true
   },
   "outputs": [
    {
     "name": "stdout",
     "output_type": "stream",
     "text": [
      "Correction factor: 1.2648209611016088\n"
     ]
    },
    {
     "data": {
      "text/html": [
       "<style  type=\"text/css\" >\n",
       "</style><table id=\"T_a2f99038_821d_11ea_b328_c85b76c62436\" ><thead>    <tr>        <th class=\"blank level0\" ></th>        <th class=\"col_heading level0 col0\" >C</th>        <th class=\"col_heading level0 col1\" >N</th>        <th class=\"col_heading level0 col2\" >O</th>        <th class=\"col_heading level0 col3\" >H</th>        <th class=\"col_heading level0 col4\" >total</th>    </tr></thead><tbody>\n",
       "                <tr>\n",
       "                        <th id=\"T_a2f99038_821d_11ea_b328_c85b76c62436level0_row0\" class=\"row_heading level0 row0\" >0</th>\n",
       "                        <td id=\"T_a2f99038_821d_11ea_b328_c85b76c62436row0_col0\" class=\"data row0 col0\" >84.2%</td>\n",
       "                        <td id=\"T_a2f99038_821d_11ea_b328_c85b76c62436row0_col1\" class=\"data row0 col1\" >97.5%</td>\n",
       "                        <td id=\"T_a2f99038_821d_11ea_b328_c85b76c62436row0_col2\" class=\"data row0 col2\" >96.7%</td>\n",
       "                        <td id=\"T_a2f99038_821d_11ea_b328_c85b76c62436row0_col3\" class=\"data row0 col3\" >99.7%</td>\n",
       "                        <td id=\"T_a2f99038_821d_11ea_b328_c85b76c62436row0_col4\" class=\"data row0 col4\" >79.1%</td>\n",
       "            </tr>\n",
       "            <tr>\n",
       "                        <th id=\"T_a2f99038_821d_11ea_b328_c85b76c62436level0_row1\" class=\"row_heading level0 row1\" >1</th>\n",
       "                        <td id=\"T_a2f99038_821d_11ea_b328_c85b76c62436row1_col0\" class=\"data row1 col0\" >14.6%</td>\n",
       "                        <td id=\"T_a2f99038_821d_11ea_b328_c85b76c62436row1_col1\" class=\"data row1 col1\" >2.5%</td>\n",
       "                        <td id=\"T_a2f99038_821d_11ea_b328_c85b76c62436row1_col2\" class=\"data row1 col2\" >0.5%</td>\n",
       "                        <td id=\"T_a2f99038_821d_11ea_b328_c85b76c62436row1_col3\" class=\"data row1 col3\" >0.3%</td>\n",
       "                        <td id=\"T_a2f99038_821d_11ea_b328_c85b76c62436row1_col4\" class=\"data row1 col4\" >16.4%</td>\n",
       "            </tr>\n",
       "            <tr>\n",
       "                        <th id=\"T_a2f99038_821d_11ea_b328_c85b76c62436level0_row2\" class=\"row_heading level0 row2\" >2</th>\n",
       "                        <td id=\"T_a2f99038_821d_11ea_b328_c85b76c62436row2_col0\" class=\"data row2 col0\" >1.2%</td>\n",
       "                        <td id=\"T_a2f99038_821d_11ea_b328_c85b76c62436row2_col1\" class=\"data row2 col1\" >0.0%</td>\n",
       "                        <td id=\"T_a2f99038_821d_11ea_b328_c85b76c62436row2_col2\" class=\"data row2 col2\" >2.8%</td>\n",
       "                        <td id=\"T_a2f99038_821d_11ea_b328_c85b76c62436row2_col3\" class=\"data row2 col3\" >0.0%</td>\n",
       "                        <td id=\"T_a2f99038_821d_11ea_b328_c85b76c62436row2_col4\" class=\"data row2 col4\" >3.9%</td>\n",
       "            </tr>\n",
       "            <tr>\n",
       "                        <th id=\"T_a2f99038_821d_11ea_b328_c85b76c62436level0_row3\" class=\"row_heading level0 row3\" >3</th>\n",
       "                        <td id=\"T_a2f99038_821d_11ea_b328_c85b76c62436row3_col0\" class=\"data row3 col0\" >0.1%</td>\n",
       "                        <td id=\"T_a2f99038_821d_11ea_b328_c85b76c62436row3_col1\" class=\"data row3 col1\" >0.0%</td>\n",
       "                        <td id=\"T_a2f99038_821d_11ea_b328_c85b76c62436row3_col2\" class=\"data row3 col2\" >0.0%</td>\n",
       "                        <td id=\"T_a2f99038_821d_11ea_b328_c85b76c62436row3_col3\" class=\"data row3 col3\" >0.0%</td>\n",
       "                        <td id=\"T_a2f99038_821d_11ea_b328_c85b76c62436row3_col4\" class=\"data row3 col4\" >0.6%</td>\n",
       "            </tr>\n",
       "            <tr>\n",
       "                        <th id=\"T_a2f99038_821d_11ea_b328_c85b76c62436level0_row4\" class=\"row_heading level0 row4\" >4</th>\n",
       "                        <td id=\"T_a2f99038_821d_11ea_b328_c85b76c62436row4_col0\" class=\"data row4 col0\" >0.0%</td>\n",
       "                        <td id=\"T_a2f99038_821d_11ea_b328_c85b76c62436row4_col1\" class=\"data row4 col1\" >0.0%</td>\n",
       "                        <td id=\"T_a2f99038_821d_11ea_b328_c85b76c62436row4_col2\" class=\"data row4 col2\" >0.0%</td>\n",
       "                        <td id=\"T_a2f99038_821d_11ea_b328_c85b76c62436row4_col3\" class=\"data row4 col3\" >0.0%</td>\n",
       "                        <td id=\"T_a2f99038_821d_11ea_b328_c85b76c62436row4_col4\" class=\"data row4 col4\" >0.1%</td>\n",
       "            </tr>\n",
       "            <tr>\n",
       "                        <th id=\"T_a2f99038_821d_11ea_b328_c85b76c62436level0_row5\" class=\"row_heading level0 row5\" >5</th>\n",
       "                        <td id=\"T_a2f99038_821d_11ea_b328_c85b76c62436row5_col0\" class=\"data row5 col0\" >0.0%</td>\n",
       "                        <td id=\"T_a2f99038_821d_11ea_b328_c85b76c62436row5_col1\" class=\"data row5 col1\" >0.0%</td>\n",
       "                        <td id=\"T_a2f99038_821d_11ea_b328_c85b76c62436row5_col2\" class=\"data row5 col2\" >0.0%</td>\n",
       "                        <td id=\"T_a2f99038_821d_11ea_b328_c85b76c62436row5_col3\" class=\"data row5 col3\" >0.0%</td>\n",
       "                        <td id=\"T_a2f99038_821d_11ea_b328_c85b76c62436row5_col4\" class=\"data row5 col4\" >0.0%</td>\n",
       "            </tr>\n",
       "    </tbody></table>"
      ],
      "text/plain": [
       "<pandas.io.formats.style.Styler at 0x7f6d71cf9a00>"
      ]
     },
     "execution_count": 5,
     "metadata": {},
     "output_type": "execute_result"
    }
   ],
   "source": [
    "df = calc_isotopologue_prob('NAD', label='5C13')\n",
    "corr_factor = 1/df.total[0]\n",
    "print(f\"Correction factor: {corr_factor}\")\n",
    "df.loc[:5].style.format(\"{:.1%}\")"
   ]
  },
  {
   "cell_type": "markdown",
   "metadata": {},
   "source": [
    "## Probabilities for unlabelled ATP isotopologues"
   ]
  },
  {
   "cell_type": "code",
   "execution_count": 6,
   "metadata": {
    "scrolled": false
   },
   "outputs": [
    {
     "data": {
      "text/html": [
       "<style  type=\"text/css\" >\n",
       "</style><table id=\"T_a30153fe_821d_11ea_b328_c85b76c62436\" ><thead>    <tr>        <th class=\"blank level0\" ></th>        <th class=\"col_heading level0 col0\" >C</th>        <th class=\"col_heading level0 col1\" >N</th>        <th class=\"col_heading level0 col2\" >O</th>        <th class=\"col_heading level0 col3\" >H</th>        <th class=\"col_heading level0 col4\" >total</th>    </tr></thead><tbody>\n",
       "                <tr>\n",
       "                        <th id=\"T_a30153fe_821d_11ea_b328_c85b76c62436level0_row0\" class=\"row_heading level0 row0\" >0</th>\n",
       "                        <td id=\"T_a30153fe_821d_11ea_b328_c85b76c62436row0_col0\" class=\"data row0 col0\" >89.80%</td>\n",
       "                        <td id=\"T_a30153fe_821d_11ea_b328_c85b76c62436row0_col1\" class=\"data row0 col1\" >98.19%</td>\n",
       "                        <td id=\"T_a30153fe_821d_11ea_b328_c85b76c62436row0_col2\" class=\"data row0 col2\" >97.60%</td>\n",
       "                        <td id=\"T_a30153fe_821d_11ea_b328_c85b76c62436row0_col3\" class=\"data row0 col3\" >99.82%</td>\n",
       "                        <td id=\"T_a30153fe_821d_11ea_b328_c85b76c62436row0_col4\" class=\"data row0 col4\" >85.90%</td>\n",
       "            </tr>\n",
       "            <tr>\n",
       "                        <th id=\"T_a30153fe_821d_11ea_b328_c85b76c62436level0_row1\" class=\"row_heading level0 row1\" >1</th>\n",
       "                        <td id=\"T_a30153fe_821d_11ea_b328_c85b76c62436row1_col0\" class=\"data row1 col0\" >9.71%</td>\n",
       "                        <td id=\"T_a30153fe_821d_11ea_b328_c85b76c62436row1_col1\" class=\"data row1 col1\" >1.79%</td>\n",
       "                        <td id=\"T_a30153fe_821d_11ea_b328_c85b76c62436row1_col2\" class=\"data row1 col2\" >0.37%</td>\n",
       "                        <td id=\"T_a30153fe_821d_11ea_b328_c85b76c62436row1_col3\" class=\"data row1 col3\" >0.18%</td>\n",
       "                        <td id=\"T_a30153fe_821d_11ea_b328_c85b76c62436row1_col4\" class=\"data row1 col4\" >11.35%</td>\n",
       "            </tr>\n",
       "            <tr>\n",
       "                        <th id=\"T_a30153fe_821d_11ea_b328_c85b76c62436level0_row2\" class=\"row_heading level0 row2\" >2</th>\n",
       "                        <td id=\"T_a30153fe_821d_11ea_b328_c85b76c62436row2_col0\" class=\"data row2 col0\" >0.47%</td>\n",
       "                        <td id=\"T_a30153fe_821d_11ea_b328_c85b76c62436row2_col1\" class=\"data row2 col1\" >0.01%</td>\n",
       "                        <td id=\"T_a30153fe_821d_11ea_b328_c85b76c62436row2_col2\" class=\"data row2 col2\" >2.01%</td>\n",
       "                        <td id=\"T_a30153fe_821d_11ea_b328_c85b76c62436row2_col3\" class=\"data row2 col3\" >0.00%</td>\n",
       "                        <td id=\"T_a30153fe_821d_11ea_b328_c85b76c62436row2_col4\" class=\"data row2 col4\" >2.46%</td>\n",
       "            </tr>\n",
       "            <tr>\n",
       "                        <th id=\"T_a30153fe_821d_11ea_b328_c85b76c62436level0_row3\" class=\"row_heading level0 row3\" >3</th>\n",
       "                        <td id=\"T_a30153fe_821d_11ea_b328_c85b76c62436row3_col0\" class=\"data row3 col0\" >0.01%</td>\n",
       "                        <td id=\"T_a30153fe_821d_11ea_b328_c85b76c62436row3_col1\" class=\"data row3 col1\" >0.00%</td>\n",
       "                        <td id=\"T_a30153fe_821d_11ea_b328_c85b76c62436row3_col2\" class=\"data row3 col2\" >0.01%</td>\n",
       "                        <td id=\"T_a30153fe_821d_11ea_b328_c85b76c62436row3_col3\" class=\"data row3 col3\" >0.00%</td>\n",
       "                        <td id=\"T_a30153fe_821d_11ea_b328_c85b76c62436row3_col4\" class=\"data row3 col4\" >0.26%</td>\n",
       "            </tr>\n",
       "            <tr>\n",
       "                        <th id=\"T_a30153fe_821d_11ea_b328_c85b76c62436level0_row4\" class=\"row_heading level0 row4\" >4</th>\n",
       "                        <td id=\"T_a30153fe_821d_11ea_b328_c85b76c62436row4_col0\" class=\"data row4 col0\" >0.00%</td>\n",
       "                        <td id=\"T_a30153fe_821d_11ea_b328_c85b76c62436row4_col1\" class=\"data row4 col1\" >0.00%</td>\n",
       "                        <td id=\"T_a30153fe_821d_11ea_b328_c85b76c62436row4_col2\" class=\"data row4 col2\" >0.02%</td>\n",
       "                        <td id=\"T_a30153fe_821d_11ea_b328_c85b76c62436row4_col3\" class=\"data row4 col3\" >0.00%</td>\n",
       "                        <td id=\"T_a30153fe_821d_11ea_b328_c85b76c62436row4_col4\" class=\"data row4 col4\" >0.03%</td>\n",
       "            </tr>\n",
       "            <tr>\n",
       "                        <th id=\"T_a30153fe_821d_11ea_b328_c85b76c62436level0_row5\" class=\"row_heading level0 row5\" >5</th>\n",
       "                        <td id=\"T_a30153fe_821d_11ea_b328_c85b76c62436row5_col0\" class=\"data row5 col0\" >0.00%</td>\n",
       "                        <td id=\"T_a30153fe_821d_11ea_b328_c85b76c62436row5_col1\" class=\"data row5 col1\" >0.00%</td>\n",
       "                        <td id=\"T_a30153fe_821d_11ea_b328_c85b76c62436row5_col2\" class=\"data row5 col2\" >0.00%</td>\n",
       "                        <td id=\"T_a30153fe_821d_11ea_b328_c85b76c62436row5_col3\" class=\"data row5 col3\" >0.00%</td>\n",
       "                        <td id=\"T_a30153fe_821d_11ea_b328_c85b76c62436row5_col4\" class=\"data row5 col4\" >0.00%</td>\n",
       "            </tr>\n",
       "    </tbody></table>"
      ],
      "text/plain": [
       "<pandas.io.formats.style.Styler at 0x7f6d70493e50>"
      ]
     },
     "execution_count": 6,
     "metadata": {},
     "output_type": "execute_result"
    }
   ],
   "source": [
    "df = calc_isotopologue_prob('ATP')\n",
    "\n",
    "df.loc[:5].style.format(\"{:.2%}\")"
   ]
  }
 ],
 "metadata": {
  "kernelspec": {
   "display_name": "Python 3",
   "language": "python",
   "name": "python3"
  },
  "language_info": {
   "codemirror_mode": {
    "name": "ipython",
    "version": 3
   },
   "file_extension": ".py",
   "mimetype": "text/x-python",
   "name": "python",
   "nbconvert_exporter": "python",
   "pygments_lexer": "ipython3",
   "version": "3.8.1"
  },
  "latex_envs": {
   "LaTeX_envs_menu_present": true,
   "autoclose": false,
   "autocomplete": true,
   "bibliofile": "biblio.bib",
   "cite_by": "apalike",
   "current_citInitial": 1,
   "eqLabelWithNumbers": true,
   "eqNumInitial": 1,
   "hotkeys": {
    "equation": "Ctrl-E",
    "itemize": "Ctrl-I"
   },
   "labels_anchors": false,
   "latex_user_defs": false,
   "report_style_numbering": false,
   "user_envs_cfg": false
  }
 },
 "nbformat": 4,
 "nbformat_minor": 2
}
