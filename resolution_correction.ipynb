{
 "cells": [
  {
   "cell_type": "code",
   "execution_count": 1,
   "metadata": {
    "hide_input": false,
    "scrolled": true
   },
   "outputs": [],
   "source": [
    "import pandas as pd\n",
    "from src.isotope_correction import (\n",
    "    calc_correction_factor,\n",
    "    calc_probability_table,\n",
    "    calc_isotopologue_correction,\n",
    "    calc_transition_prob,\n",
    "    get_metabolite_formula,\n",
    ")"
   ]
  },
  {
   "cell_type": "code",
   "execution_count": 2,
   "metadata": {},
   "outputs": [],
   "source": [
    "import src.isotope_correction as ic"
   ]
  },
  {
   "cell_type": "code",
   "execution_count": 3,
   "metadata": {},
   "outputs": [],
   "source": [
    "def fwhm(m_cal, m_z, resolution):\n",
    "    \"\"\"Calculate Full width half maximum (FWHM).\"\"\"\n",
    "    return m_z ** (3 / 2) / (resolution * m_cal ** 0.5)\n",
    "\n",
    "\n",
    "def min_mass_diff(m, z, m_cal, resolution):\n",
    "    \"\"\"Calculate minimal resolvable mass difference.\n",
    "    \n",
    "    For m and z return minimal mass difference that ca be resolved properly.\n",
    "    :param m: float\n",
    "        Mass of molecule\n",
    "    :param z: int\n",
    "        Charge of molecule\n",
    "    :param m_cal: float\n",
    "        Mass for which resolition has been determined\n",
    "    :param resolution: float\n",
    "        Resolution\n",
    "    :returns: float\n",
    "    \"\"\"\n",
    "    m_z = m / z\n",
    "    return 1.66 * z * fwhm(m_cal, m_z, resolution)\n",
    "\n",
    "\n",
    "def assign_light_isotopes(metabolite_series):\n",
    "    \"\"\"Replace all element names with light isotopes (\"C\" -> \"C13\").\"\"\"\n",
    "    result = metabolite_series.rename(\n",
    "        {\n",
    "            \"H\": \"H01\",\n",
    "            \"C\": \"C12\",\n",
    "            \"N\": \"N14\",\n",
    "            \"O\": \"O16\",\n",
    "            \"Si\": \"Si28\",\n",
    "            \"P\": \"P31\",\n",
    "            \"S\": \"S32\",\n",
    "        },\n",
    "    )\n",
    "    return result\n",
    "\n",
    "\n",
    "def subtract_label(metabolite_series, label_series):\n",
    "    \"\"\"Subtract label atoms from metabolite formula.\"\"\"\n",
    "    formula_difference = metabolite_series.copy()\n",
    "    iso_dict = {\n",
    "        \"H02\": \"H01\",\n",
    "        \"C13\": \"C12\",\n",
    "        \"N15\": \"N14\",\n",
    "    }\n",
    "    for heavy in label_series.keys():\n",
    "        light = iso_dict[heavy]\n",
    "        formula_difference[light] = metabolite_series[light] - label_series[heavy]\n",
    "    if any(formula_difference < 0):\n",
    "        raise ValueError(\"Too many labelled atoms\")\n",
    "    return formula_difference\n",
    "\n",
    "\n",
    "def get_isotope_mass_series(isotopes_file):\n",
    "    \"\"\"Get series of isotope masses.\"\"\"\n",
    "    return pd.read_csv(\n",
    "        isotopes_file,\n",
    "        sep=\"\\t\",\n",
    "        usecols=[\"mass\", \"isotope\"],\n",
    "        index_col=\"isotope\",\n",
    "        squeeze=True,\n",
    "    )\n",
    "\n",
    "\n",
    "def calc_isotopologue_mass(metabolite_name, label, isotope_mass_series):\n",
    "    \"\"\"Calculate mass of isotopologue.\n",
    "    \n",
    "    Given the metabolite name and label composition, return mass in atomic units.\n",
    "    :param metabolite_name: str\n",
    "        Name as in metabolite_file\n",
    "    :param label: str\n",
    "        \"No label\" or formula, can contain whitespaces\n",
    "    :param isotope_mass_series: pandas Series\n",
    "        Isotope name (e.g. 'H02') as index and mass as values\n",
    "        Output of 'get_isotope_mass_series'\n",
    "    :returns: float\n",
    "    \"\"\"\n",
    "    label = pd.Series(ic.parse_label(label), dtype=\"int64\")\n",
    "    metab = pd.Series(\n",
    "        ic.get_metabolite_formula(metabolite_name, \"src/metabolites.csv\"), dtype=\"int64\"\n",
    "    )\n",
    "    metab = assign_light_isotopes(metab)\n",
    "    light_isotopes = subtract_label(metab, label)\n",
    "    formula_isotopes = pd.concat([light_isotopes, label])\n",
    "    mass = isotope_mass_series.multiply(formula_isotopes).dropna().sum()\n",
    "    return mass\n",
    "\n",
    "\n",
    "def is_isotologue_overlapp(label1, label2, metabolite_name, min_mass_diff, isotope_mass_series):\n",
    "    \"\"\"Return True if label1 and label2 are too close to detection limit.\n",
    "    \n",
    "    Checks whether two isotopologues defined by label and metabolite name\n",
    "    are below miniumum resolved mass difference.\n",
    "    \"\"\"\n",
    "    mass1 = calc_isotopologue_mass(metabolite_name, label1, isotope_mass_series)\n",
    "    mass2 = calc_isotopologue_mass(metabolite_name, label2, isotope_mass_series)\n",
    "    return abs(mass1 - mass2) < min_mass_diff"
   ]
  },
  {
   "cell_type": "code",
   "execution_count": 4,
   "metadata": {},
   "outputs": [],
   "source": [
    "labels = {\n",
    "    \"No label\": \"No label\",\n",
    "    \"2C13\": \"2C13\",\n",
    "    \"2C13 3H02\": \"5C13\",\n",
    "    \"4C13\": \"4C13\",\n",
    "    \"4C13 3H02\": \"7C13\",\n",
    "    \"4C13 6H02\": \"10C13\",\n",
    "}"
   ]
  },
  {
   "cell_type": "code",
   "execution_count": 5,
   "metadata": {},
   "outputs": [
    {
     "data": {
      "text/plain": [
       "0.009244545730428034"
      ]
     },
     "execution_count": 5,
     "metadata": {},
     "output_type": "execute_result"
    }
   ],
   "source": [
    "name_his = \"K(ac)QLATK(ac)AAR\"\n",
    "histo = get_metabolite_formula(name_his, \"src/metabolites.csv\")\n",
    "calc_transition_prob(\"4C13\", \"7C13\", histo, \"src/metabolites.csv\", \"src/isotopes.csv\")"
   ]
  },
  {
   "cell_type": "code",
   "execution_count": 6,
   "metadata": {},
   "outputs": [
    {
     "name": "stdout",
     "output_type": "stream",
     "text": [
      "No label -> 2C13: \t0.07381426583499244\n",
      "No label -> 2C13 3H02: \t0.00012368777651995536\n",
      "No label -> 4C13: \t0.001361418750680817\n",
      "No label -> 4C13 3H02: \t5.649797437808613e-07\n",
      "No label -> 4C13 6H02: \t5.443993706160078e-11\n",
      "2C13 -> 2C13 3H02: \t0.010438038089519907\n",
      "2C13 -> 4C13: \t0.06893425288359174\n",
      "2C13 -> 4C13 3H02: \t0.00010012540064801634\n",
      "2C13 -> 4C13 6H02: \t2.0673891041025335e-08\n",
      "2C13 3H02 -> 4C13 3H02: \t0.06171258832061438\n",
      "2C13 3H02 -> 4C13 6H02: \t7.135751950892934e-05\n",
      "4C13 -> 2C13 3H02: \t0.28912220025087565\n",
      "4C13 -> 4C13 3H02: \t0.009244545730428034\n",
      "4C13 -> 4C13 6H02: \t5.344678211218808e-06\n",
      "4C13 3H02 -> 4C13 6H02: \t0.007600783060074407\n"
     ]
    }
   ],
   "source": [
    "import itertools\n",
    "for la1, la2 in itertools.permutations(labels.keys(), 2):\n",
    "    res = calc_transition_prob(labels[la1], labels[la2], histo, \"src/metabolites.csv\", \"src/isotopes.csv\")\n",
    "    if res != 0:\n",
    "        print(f\"{la1} -> {la2}: \\t{res}\")"
   ]
  },
  {
   "cell_type": "code",
   "execution_count": 8,
   "metadata": {},
   "outputs": [
    {
     "data": {
      "text/plain": [
       "True"
      ]
     },
     "execution_count": 8,
     "metadata": {},
     "output_type": "execute_result"
    }
   ],
   "source": [
    "isotope_mass_series = get_isotope_mass_series(\"src/isotopes.csv\")\n",
    "min_mass = min_mass_diff(1070, 2, 200, 6E4)\n",
    "is_isotologue_overlapp(\"7C13\", \"4C13 3H02\", name_his, min_mass, isotope_mass_series)"
   ]
  },
  {
   "cell_type": "code",
   "execution_count": 9,
   "metadata": {},
   "outputs": [
    {
     "data": {
      "text/plain": [
       "0.04846043453279501"
      ]
     },
     "execution_count": 9,
     "metadata": {},
     "output_type": "execute_result"
    }
   ],
   "source": [
    "mass_his = calc_isotopologue_mass(name_his, \"No label\", isotope_mass_series)\n",
    "min_mass_diff(mass_his, 2, 200, 6E4)"
   ]
  },
  {
   "cell_type": "code",
   "execution_count": 10,
   "metadata": {},
   "outputs": [
    {
     "name": "stdout",
     "output_type": "stream",
     "text": [
      "Resolution good enough to separate H from C with 17 labeled atoms\n"
     ]
    }
   ],
   "source": [
    "for i in range(22):\n",
    "    if not is_isotologue_overlapp(str(i)+\"C13\", str(i)+\"H02\", name_his, min_mass, isotope_mass_series):\n",
    "        print(f\"Resolution good enough to separate H from C with {i} labeled atoms\")\n",
    "        break"
   ]
  }
 ],
 "metadata": {
  "kernelspec": {
   "display_name": "Python 3",
   "language": "python",
   "name": "python3"
  },
  "language_info": {
   "codemirror_mode": {
    "name": "ipython",
    "version": 3
   },
   "file_extension": ".py",
   "mimetype": "text/x-python",
   "name": "python",
   "nbconvert_exporter": "python",
   "pygments_lexer": "ipython3",
   "version": "3.8.5"
  },
  "latex_envs": {
   "LaTeX_envs_menu_present": true,
   "autoclose": false,
   "autocomplete": true,
   "bibliofile": "biblio.bib",
   "cite_by": "apalike",
   "current_citInitial": 1,
   "eqLabelWithNumbers": true,
   "eqNumInitial": 1,
   "hotkeys": {
    "equation": "Ctrl-E",
    "itemize": "Ctrl-I"
   },
   "labels_anchors": false,
   "latex_user_defs": false,
   "report_style_numbering": false,
   "user_envs_cfg": false
  }
 },
 "nbformat": 4,
 "nbformat_minor": 2
}
