{
 "cells": [
  {
   "cell_type": "code",
   "execution_count": 1,
   "metadata": {
    "hide_input": false,
    "scrolled": true
   },
   "outputs": [],
   "source": [
    "import pandas as pd\n",
    "from src.isotope_correction import (\n",
    "    calc_min_mass_diff,\n",
    "    get_isotope_mass_series,\n",
    "    is_isotologue_overlapp,\n",
    "    calc_isotopologue_mass,\n",
    "    calc_transition_prob,\n",
    "    get_metabolite_formula,\n",
    ")"
   ]
  },
  {
   "cell_type": "code",
   "execution_count": 2,
   "metadata": {},
   "outputs": [],
   "source": [
    "labels = {\n",
    "    \"No label\": \"No label\",\n",
    "    \"2C13\": \"2C13\",\n",
    "    \"2C13 3H02\": \"5C13\",\n",
    "    \"4C13\": \"4C13\",\n",
    "    \"4C13 3H02\": \"7C13\",\n",
    "    \"4C13 6H02\": \"10C13\",\n",
    "}"
   ]
  },
  {
   "cell_type": "code",
   "execution_count": 3,
   "metadata": {},
   "outputs": [
    {
     "data": {
      "text/plain": [
       "0.009244545730428034"
      ]
     },
     "execution_count": 3,
     "metadata": {},
     "output_type": "execute_result"
    }
   ],
   "source": [
    "name_his = \"K(ac)QLATK(ac)AAR\"\n",
    "histo = get_metabolite_formula(name_his, \"src/metabolites.csv\")\n",
    "calc_transition_prob(\"4C13\", \"7C13\", histo, \"src/metabolites.csv\", \"src/isotopes.csv\")"
   ]
  },
  {
   "cell_type": "code",
   "execution_count": 4,
   "metadata": {},
   "outputs": [
    {
     "name": "stdout",
     "output_type": "stream",
     "text": [
      "No label -> 2C13: \t0.07381426583499244\n",
      "No label -> 2C13 3H02: \t0.00012368777651995536\n",
      "No label -> 4C13: \t0.001361418750680817\n",
      "No label -> 4C13 3H02: \t5.649797437808613e-07\n",
      "No label -> 4C13 6H02: \t5.443993706160078e-11\n",
      "2C13 -> 2C13 3H02: \t0.010438038089519907\n",
      "2C13 -> 4C13: \t0.06893425288359174\n",
      "2C13 -> 4C13 3H02: \t0.00010012540064801634\n",
      "2C13 -> 4C13 6H02: \t2.0673891041025335e-08\n",
      "2C13 3H02 -> 4C13 3H02: \t0.06171258832061438\n",
      "2C13 3H02 -> 4C13 6H02: \t7.135751950892934e-05\n",
      "4C13 -> 2C13 3H02: \t0.28912220025087565\n",
      "4C13 -> 4C13 3H02: \t0.009244545730428034\n",
      "4C13 -> 4C13 6H02: \t5.344678211218808e-06\n",
      "4C13 3H02 -> 4C13 6H02: \t0.007600783060074407\n"
     ]
    }
   ],
   "source": [
    "import itertools\n",
    "for la1, la2 in itertools.permutations(labels.keys(), 2):\n",
    "    res = calc_transition_prob(labels[la1], labels[la2], histo, \"src/metabolites.csv\", \"src/isotopes.csv\")\n",
    "    if res != 0:\n",
    "        print(f\"{la1} -> {la2}: \\t{res}\")"
   ]
  },
  {
   "cell_type": "code",
   "execution_count": 5,
   "metadata": {},
   "outputs": [
    {
     "data": {
      "text/plain": [
       "True"
      ]
     },
     "execution_count": 5,
     "metadata": {},
     "output_type": "execute_result"
    }
   ],
   "source": [
    "isotope_mass_series = get_isotope_mass_series(\"src/isotopes.csv\")\n",
    "min_mass = calc_min_mass_diff(1070, 2, 200, 6E4)\n",
    "is_isotologue_overlapp(\"7C13\", \"4C13 3H02\", name_his, min_mass, isotope_mass_series)"
   ]
  },
  {
   "cell_type": "code",
   "execution_count": 6,
   "metadata": {},
   "outputs": [
    {
     "data": {
      "text/plain": [
       "0.04846043453279501"
      ]
     },
     "execution_count": 6,
     "metadata": {},
     "output_type": "execute_result"
    }
   ],
   "source": [
    "mass_his = calc_isotopologue_mass(name_his, \"No label\", isotope_mass_series)\n",
    "calc_min_mass_diff(mass_his, 2, 200, 6E4)"
   ]
  },
  {
   "cell_type": "code",
   "execution_count": 7,
   "metadata": {},
   "outputs": [
    {
     "name": "stdout",
     "output_type": "stream",
     "text": [
      "Resolution good enough to separate H from C with 17 labeled atoms\n"
     ]
    }
   ],
   "source": [
    "for i in range(22):\n",
    "    if not is_isotologue_overlapp(str(i)+\"C13\", str(i)+\"H02\", name_his, min_mass, isotope_mass_series):\n",
    "        print(f\"Resolution good enough to separate H from C with {i} labeled atoms\")\n",
    "        break"
   ]
  }
 ],
 "metadata": {
  "kernelspec": {
   "display_name": "Python 3",
   "language": "python",
   "name": "python3"
  },
  "language_info": {
   "codemirror_mode": {
    "name": "ipython",
    "version": 3
   },
   "file_extension": ".py",
   "mimetype": "text/x-python",
   "name": "python",
   "nbconvert_exporter": "python",
   "pygments_lexer": "ipython3",
   "version": "3.8.5"
  },
  "latex_envs": {
   "LaTeX_envs_menu_present": true,
   "autoclose": false,
   "autocomplete": true,
   "bibliofile": "biblio.bib",
   "cite_by": "apalike",
   "current_citInitial": 1,
   "eqLabelWithNumbers": true,
   "eqNumInitial": 1,
   "hotkeys": {
    "equation": "Ctrl-E",
    "itemize": "Ctrl-I"
   },
   "labels_anchors": false,
   "latex_user_defs": false,
   "report_style_numbering": false,
   "user_envs_cfg": false
  }
 },
 "nbformat": 4,
 "nbformat_minor": 2
}
