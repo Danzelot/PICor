{
 "cells": [
  {
   "cell_type": "code",
   "execution_count": 1,
   "metadata": {
    "hide_input": false,
    "scrolled": true
   },
   "outputs": [],
   "source": [
    "import pandas as pd\n",
    "from src.isotope_correction import *\n",
    "from src.resolution_correction import *"
   ]
  },
  {
   "cell_type": "code",
   "execution_count": 2,
   "metadata": {},
   "outputs": [],
   "source": [
    "labels = {\n",
    "    \"No label\": \"No label\",\n",
    "    \"2C13\": \"2C13\",\n",
    "    \"2C13 3H02\": \"5C13\",\n",
    "    \"4C13\": \"4C13\",\n",
    "    \"4C13 3H02\": \"7C13\",\n",
    "    \"4C13 6H02\": \"10C13\",\n",
    "}"
   ]
  },
  {
   "cell_type": "code",
   "execution_count": 3,
   "metadata": {},
   "outputs": [
    {
     "data": {
      "text/plain": [
       "0.009244545730428034"
      ]
     },
     "execution_count": 3,
     "metadata": {},
     "output_type": "execute_result"
    }
   ],
   "source": [
    "name_his = \"K(ac)QLATK(ac)AAR\"\n",
    "histo = get_metabolite_formula(name_his, \"src/metabolites.csv\", \"src/isotopes.csv\")\n",
    "calc_transition_prob(\"4C13\", \"7C13\", histo, \"src/metabolites.csv\", \"src/isotopes.csv\")"
   ]
  },
  {
   "cell_type": "code",
   "execution_count": 4,
   "metadata": {},
   "outputs": [
    {
     "name": "stdout",
     "output_type": "stream",
     "text": [
      "4C13 -> 2C13 3H02: \t0.28912\t0.00000\n"
     ]
    }
   ],
   "source": [
    "import itertools\n",
    "for la1, la2 in itertools.permutations(labels.keys(), 2):\n",
    "    trans_c = calc_transition_prob(labels[la1], labels[la2], histo, \"src/metabolites.csv\", \"src/isotopes.csv\")\n",
    "    trans_std = calc_transition_prob(la1, la2, histo, \"src/metabolites.csv\", \"src/isotopes.csv\")\n",
    "    if trans_c > 0.0001 and trans_std == 0:\n",
    "        print(f\"{la1} -> {la2}: \\t{trans_c:.5f}\\t{trans_std:.5f}\")"
   ]
  },
  {
   "cell_type": "code",
   "execution_count": 5,
   "metadata": {},
   "outputs": [
    {
     "data": {
      "text/plain": [
       "True"
      ]
     },
     "execution_count": 5,
     "metadata": {},
     "output_type": "execute_result"
    }
   ],
   "source": [
    "isotopes_file = \"src/isotopes.csv\"\n",
    "metabolites_file = \"src/metabolites.csv\"\n",
    "isotope_mass_series = get_isotope_mass_series(\"src/isotopes.csv\")\n",
    "min_mass = calc_min_mass_diff(1070, 2, 200, 6E4)\n",
    "is_isotologue_overlap(\"7C13\", \"4C13 3H02\", name_his, min_mass, isotope_mass_series, isotopes_file)"
   ]
  },
  {
   "cell_type": "code",
   "execution_count": 6,
   "metadata": {},
   "outputs": [],
   "source": [
    "mass_his = calc_isotopologue_mass(name_his, \"No label\", isotope_mass_series, isotopes_file)\n",
    "min_mass_diff = calc_min_mass_diff(mass_his, 2, 200, 6E4)"
   ]
  },
  {
   "cell_type": "code",
   "execution_count": 7,
   "metadata": {},
   "outputs": [
    {
     "data": {
      "text/plain": [
       "0.04846043453279501"
      ]
     },
     "execution_count": 7,
     "metadata": {},
     "output_type": "execute_result"
    }
   ],
   "source": [
    "min_mass_diff\n"
   ]
  },
  {
   "cell_type": "code",
   "execution_count": 8,
   "metadata": {},
   "outputs": [
    {
     "name": "stdout",
     "output_type": "stream",
     "text": [
      "Resolution good enough to separate H from C with 17 labeled atoms\n"
     ]
    }
   ],
   "source": [
    "for i in range(22):\n",
    "    if not is_isotologue_overlap(\n",
    "        str(i) + \"C13\",\n",
    "        str(i) + \"H02\",\n",
    "        name_his,\n",
    "        min_mass,\n",
    "        isotope_mass_series,\n",
    "        isotopes_file,\n",
    "    ):\n",
    "        print(f\"Resolution good enough to separate H from C with {i} labeled atoms\")\n",
    "        break"
   ]
  },
  {
   "cell_type": "code",
   "execution_count": 9,
   "metadata": {},
   "outputs": [],
   "source": [
    "lab = list(labels.keys())\n",
    "lab.extend([\"5C13\", \"6C13\"])"
   ]
  },
  {
   "cell_type": "code",
   "execution_count": 10,
   "metadata": {},
   "outputs": [
    {
     "name": "stderr",
     "output_type": "stream",
     "text": [
      "/home/jd/work/isotope_correction/src/resolution_correction.py:160: UserWarning: Direct overlap of 2H02 2C13 and 4C13\n",
      "  warnings.warn(f\"Direct overlap of {label1} and {label2}\")\n",
      "/home/jd/work/isotope_correction/src/resolution_correction.py:160: UserWarning: Direct overlap of 4C13 and 2H02 2C13\n",
      "  warnings.warn(f\"Direct overlap of {label1} and {label2}\")\n"
     ]
    }
   ],
   "source": [
    "warn_direct_overlap(\n",
    "    [\"No label\", \"2H02 2C13\", \"2C13 3H02\", \"4C13\"],\n",
    "    name_his,\n",
    "    min_mass_diff,\n",
    "    metabolites_file,\n",
    "    isotopes_file,\n",
    ")"
   ]
  },
  {
   "cell_type": "code",
   "execution_count": 11,
   "metadata": {
    "scrolled": true
   },
   "outputs": [
    {
     "name": "stderr",
     "output_type": "stream",
     "text": [
      "/home/jd/work/isotope_correction/src/resolution_correction.py:140: UserWarning: {'C13': 1, 'H02': 2} indirect overlap with {'C13': 4} with prob 0.0093\n",
      "  warnings.warn(\n"
     ]
    }
   ],
   "source": [
    "warn_indirect_overlap(\n",
    "    [\"1C13 2H02\", \"4C13\"],\n",
    "    name_his,\n",
    "    min_mass_diff,\n",
    "    metabolites_file,\n",
    "    isotopes_file,\n",
    ")"
   ]
  },
  {
   "cell_type": "code",
   "execution_count": 13,
   "metadata": {
    "scrolled": true
   },
   "outputs": [
    {
     "name": "stderr",
     "output_type": "stream",
     "text": [
      "/home/jd/work/isotope_correction/src/resolution_correction.py:140: UserWarning: {'C13': 1, 'H02': 2} indirect overlap with {'C13': 4} with prob 0.2967\n",
      "  warnings.warn(\n"
     ]
    }
   ],
   "source": [
    "warn_indirect_overlap(\n",
    "    [\"1C13 2H02\", \"4C13\"],\n",
    "    name_his,\n",
    "    min_mass_diff,\n",
    "    metabolites_file,\n",
    "    isotopes_file,\n",
    ")"
   ]
  }
 ],
 "metadata": {
  "kernelspec": {
   "display_name": "Python 3",
   "language": "python",
   "name": "python3"
  },
  "language_info": {
   "codemirror_mode": {
    "name": "ipython",
    "version": 3
   },
   "file_extension": ".py",
   "mimetype": "text/x-python",
   "name": "python",
   "nbconvert_exporter": "python",
   "pygments_lexer": "ipython3",
   "version": "3.8.5"
  },
  "latex_envs": {
   "LaTeX_envs_menu_present": true,
   "autoclose": false,
   "autocomplete": true,
   "bibliofile": "biblio.bib",
   "cite_by": "apalike",
   "current_citInitial": 1,
   "eqLabelWithNumbers": true,
   "eqNumInitial": 1,
   "hotkeys": {
    "equation": "Ctrl-E",
    "itemize": "Ctrl-I"
   },
   "labels_anchors": false,
   "latex_user_defs": false,
   "report_style_numbering": false,
   "user_envs_cfg": false
  }
 },
 "nbformat": 4,
 "nbformat_minor": 2
}
