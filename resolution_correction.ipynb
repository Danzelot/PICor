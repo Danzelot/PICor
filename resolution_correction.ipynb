{
 "cells": [
  {
   "cell_type": "code",
   "execution_count": 1,
   "metadata": {
    "hide_input": false,
    "scrolled": true
   },
   "outputs": [],
   "source": [
    "import pandas as pd\n",
    "from src.isotope_correction import *"
   ]
  },
  {
   "cell_type": "code",
   "execution_count": 2,
   "metadata": {},
   "outputs": [],
   "source": [
    "labels = {\n",
    "    \"No label\": \"No label\",\n",
    "    \"2C13\": \"2C13\",\n",
    "    \"2C13 3H02\": \"5C13\",\n",
    "    \"4C13\": \"4C13\",\n",
    "    \"4C13 3H02\": \"7C13\",\n",
    "    \"4C13 6H02\": \"10C13\",\n",
    "}"
   ]
  },
  {
   "cell_type": "code",
   "execution_count": 4,
   "metadata": {},
   "outputs": [
    {
     "data": {
      "text/plain": [
       "0.009244545730428034"
      ]
     },
     "execution_count": 4,
     "metadata": {},
     "output_type": "execute_result"
    }
   ],
   "source": [
    "name_his = \"K(ac)QLATK(ac)AAR\"\n",
    "histo = get_metabolite_formula(name_his, \"src/metabolites.csv\", \"src/isotopes.csv\")\n",
    "calc_transition_prob(\"4C13\", \"7C13\", histo, \"src/metabolites.csv\", \"src/isotopes.csv\")"
   ]
  },
  {
   "cell_type": "code",
   "execution_count": 60,
   "metadata": {},
   "outputs": [
    {
     "name": "stdout",
     "output_type": "stream",
     "text": [
      "4C13 -> 2C13 3H02: \t0.28912\t0.00000\n"
     ]
    }
   ],
   "source": [
    "import itertools\n",
    "for la1, la2 in itertools.permutations(labels.keys(), 2):\n",
    "    trans_c = calc_transition_prob(labels[la1], labels[la2], histo, \"src/metabolites.csv\", \"src/isotopes.csv\")\n",
    "    trans_std = calc_transition_prob(la1, la2, histo, \"src/metabolites.csv\", \"src/isotopes.csv\")\n",
    "    if trans_c > 0.0001 and trans_std == 0:\n",
    "        print(f\"{la1} -> {la2}: \\t{trans_c:.5f}\\t{trans_std:.5f}\")"
   ]
  },
  {
   "cell_type": "code",
   "execution_count": 13,
   "metadata": {},
   "outputs": [
    {
     "data": {
      "text/plain": [
       "True"
      ]
     },
     "execution_count": 13,
     "metadata": {},
     "output_type": "execute_result"
    }
   ],
   "source": [
    "isotopes_file = \"src/isotopes.csv\"\n",
    "isotope_mass_series = get_isotope_mass_series(\"src/isotopes.csv\")\n",
    "min_mass = calc_min_mass_diff(1070, 2, 200, 6E4)\n",
    "is_isotologue_overlap(\"7C13\", \"4C13 3H02\", name_his, min_mass, isotope_mass_series, isotopes_file)"
   ]
  },
  {
   "cell_type": "code",
   "execution_count": 23,
   "metadata": {},
   "outputs": [],
   "source": [
    "mass_his = calc_isotopologue_mass(name_his, \"No label\", isotope_mass_series, isotopes_file)\n",
    "min_mass_diff = calc_min_mass_diff(mass_his, 2, 200, 6E4)"
   ]
  },
  {
   "cell_type": "code",
   "execution_count": 18,
   "metadata": {},
   "outputs": [
    {
     "name": "stdout",
     "output_type": "stream",
     "text": [
      "Resolution good enough to separate H from C with 17 labeled atoms\n"
     ]
    }
   ],
   "source": [
    "for i in range(22):\n",
    "    if not is_isotologue_overlap(\n",
    "        str(i) + \"C13\",\n",
    "        str(i) + \"H02\",\n",
    "        name_his,\n",
    "        min_mass,\n",
    "        isotope_mass_series,\n",
    "        isotopes_file,\n",
    "    ):\n",
    "        print(f\"Resolution good enough to separate H from C with {i} labeled atoms\")\n",
    "        break"
   ]
  },
  {
   "cell_type": "code",
   "execution_count": 50,
   "metadata": {},
   "outputs": [
    {
     "data": {
      "text/plain": [
       "['No label', '2C13', '2C13 3H02', '4C13', '4C13 3H02', '4C13 6H02']"
      ]
     },
     "execution_count": 50,
     "metadata": {},
     "output_type": "execute_result"
    }
   ],
   "source": [
    "lab"
   ]
  },
  {
   "cell_type": "code",
   "execution_count": 55,
   "metadata": {},
   "outputs": [],
   "source": [
    "lab = list(labels.keys())\n",
    "lab.extend([\"5C13\", \"6C13\"])"
   ]
  },
  {
   "cell_type": "code",
   "execution_count": 63,
   "metadata": {
    "scrolled": true
   },
   "outputs": [
    {
     "name": "stdout",
     "output_type": "stream",
     "text": [
      "1\n",
      "-1\n"
     ]
    }
   ],
   "source": [
    "def warn_overlap(label_list, metabolite_name, min_mass_diff, isotopes_file):\n",
    "    \"\"\"Warn if any of labels can have overlap\"\"\"\n",
    "    isotope_mass_series = get_isotope_mass_series(isotopes_file)\n",
    "    for label1, label2 in itertools.permutations(label_list, 2):\n",
    "        # Label overlap possible with additional atoms\n",
    "        coarse_mass_difference = calc_coarse_mass_difference(label1, label2)\n",
    "        if coarse_mass_difference > 0:\n",
    "                        \n",
    "\n",
    "        # Direct label overlap\n",
    "        if is_isotologue_overlap(\n",
    "            label1,\n",
    "            label2,\n",
    "            metabolite_name,\n",
    "            min_mass_diff,\n",
    "            isotope_mass_series,\n",
    "            isotopes_file,\n",
    "        ):\n",
    "            print(label1, \"overlapping with\", label2)\n",
    "\n",
    "\n",
    "warn_overlap([\"4C13\", \"2C13 3H02\"], name_his, min_mass_diff, isotopes_file)"
   ]
  },
  {
   "cell_type": "code",
   "execution_count": null,
   "metadata": {},
   "outputs": [],
   "source": [
    "warn_overlap(lab, name_his, min_mass_diff, isotopes_file)"
   ]
  }
 ],
 "metadata": {
  "kernelspec": {
   "display_name": "Python 3",
   "language": "python",
   "name": "python3"
  },
  "language_info": {
   "codemirror_mode": {
    "name": "ipython",
    "version": 3
   },
   "file_extension": ".py",
   "mimetype": "text/x-python",
   "name": "python",
   "nbconvert_exporter": "python",
   "pygments_lexer": "ipython3",
   "version": "3.8.5"
  },
  "latex_envs": {
   "LaTeX_envs_menu_present": true,
   "autoclose": false,
   "autocomplete": true,
   "bibliofile": "biblio.bib",
   "cite_by": "apalike",
   "current_citInitial": 1,
   "eqLabelWithNumbers": true,
   "eqNumInitial": 1,
   "hotkeys": {
    "equation": "Ctrl-E",
    "itemize": "Ctrl-I"
   },
   "labels_anchors": false,
   "latex_user_defs": false,
   "report_style_numbering": false,
   "user_envs_cfg": false
  }
 },
 "nbformat": 4,
 "nbformat_minor": 2
}
